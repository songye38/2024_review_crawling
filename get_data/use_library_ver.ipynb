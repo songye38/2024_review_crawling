{
 "cells": [
  {
   "cell_type": "code",
   "execution_count": 9,
   "metadata": {},
   "outputs": [],
   "source": [
    "from google_play_scraper import Sort, reviews_all\n",
    "\n",
    "result = reviews_all(\n",
    "    'com.selabs.speak',\n",
    "    sleep_milliseconds=0, # defaults to 0\n",
    "    lang='ko', # defaults to 'en'\n",
    "    country='US' # defaults to 'us'\n",
    "    #sort=Sort.MOST_RELEVANT # defaults to Sort.MOST_RELEVANT\n",
    ")"
   ]
  },
  {
   "cell_type": "code",
   "execution_count": 13,
   "metadata": {},
   "outputs": [
    {
     "data": {
      "text/plain": [
       "{'reviewId': '68fa3f50-787a-44f7-8538-a55e097a623a',\n",
       " 'userName': 'Soon-hong Kwon',\n",
       " 'userImage': 'https://play-lh.googleusercontent.com/a/ACg8ocKLRIEeAoQqoLhRItf9tICJmWlRrHtrdiTk2F0HjcBX=mo',\n",
       " 'content': '쉽고 재미있음.',\n",
       " 'score': 5,\n",
       " 'thumbsUpCount': 0,\n",
       " 'reviewCreatedVersion': '3.13.6',\n",
       " 'at': datetime.datetime(2024, 2, 2, 0, 21, 11),\n",
       " 'replyContent': None,\n",
       " 'repliedAt': None,\n",
       " 'appVersion': '3.13.6'}"
      ]
     },
     "execution_count": 13,
     "metadata": {},
     "output_type": "execute_result"
    }
   ],
   "source": [
    "result[0]\n",
    "#12338"
   ]
  },
  {
   "cell_type": "code",
   "execution_count": 14,
   "metadata": {},
   "outputs": [
    {
     "name": "stdout",
     "output_type": "stream",
     "text": [
      "                                   reviewId        userName  \\\n",
      "0      68fa3f50-787a-44f7-8538-a55e097a623a  Soon-hong Kwon   \n",
      "1      0e7679e9-a79d-41e3-a8d3-10455380b2d1   DongHyun Jang   \n",
      "2      7ccf7571-706d-4efa-9dae-d1ebe5462465             정선홍   \n",
      "3      77f4a794-c579-4d67-b0fb-76162efdeb4b       여니혀니의 데일리   \n",
      "4      5b5b93a5-92fe-42b3-8b4b-d2c3489e95e0        서Sms0723   \n",
      "...                                     ...             ...   \n",
      "12930  9ee5393c-9d5b-44b1-8d8c-9ddbbd8ecfa5      Google 사용자   \n",
      "12931  b1332489-27d6-4f2d-9f1c-150da106f656      Google 사용자   \n",
      "12932  6f7d1d29-09cb-4afa-809c-b2d8aac5f950      Google 사용자   \n",
      "12933  68e05e39-4155-4196-a29c-8d6e2754adbf      Google 사용자   \n",
      "12934  0a6fd299-4f16-473d-9fd3-af774af81777      Google 사용자   \n",
      "\n",
      "                                               userImage  \\\n",
      "0      https://play-lh.googleusercontent.com/a/ACg8oc...   \n",
      "1      https://play-lh.googleusercontent.com/a/ACg8oc...   \n",
      "2      https://play-lh.googleusercontent.com/a/ACg8oc...   \n",
      "3      https://play-lh.googleusercontent.com/a-/ALV-U...   \n",
      "4      https://play-lh.googleusercontent.com/a/ACg8oc...   \n",
      "...                                                  ...   \n",
      "12930  https://play-lh.googleusercontent.com/EGemoI2N...   \n",
      "12931  https://play-lh.googleusercontent.com/EGemoI2N...   \n",
      "12932  https://play-lh.googleusercontent.com/EGemoI2N...   \n",
      "12933  https://play-lh.googleusercontent.com/EGemoI2N...   \n",
      "12934  https://play-lh.googleusercontent.com/EGemoI2N...   \n",
      "\n",
      "                                                 content  score  \\\n",
      "0                                               쉽고 재미있음.      5   \n",
      "1                                                    좋아요      5   \n",
      "2                                     존잼;;;;빨리 다음수업하고싶어요      5   \n",
      "3                                                   good      5   \n",
      "4             내 발음을 바로바로 들을수 있고. 모범답안과 비교할수 있어서 도움이 됩니다.      5   \n",
      "...                                                  ...    ...   \n",
      "12930  망설이다가 그냥 질렀어요!! 저는 카페에서 일하는데 매번 외국인 손님이 올 때마다 ...      5   \n",
      "12931  저는 영국에서 공부중인데 밤에 자기전에 Day 하나씩 듣고 있어요ㅎㅎ 막상 분량이 ...      5   \n",
      "12932  캐나다에서 공부중인 유학생입니다 고민이 많았는데.. 2년 전에 유학와서 영어때문에 ...      5   \n",
      "12933                                 친구한테 추천받아서 다운받았어요!      4   \n",
      "12934                   웬만해서 리 뷰 안 남기는 사람인데요 이 앱은 괜찮네요!!      5   \n",
      "\n",
      "       thumbsUpCount reviewCreatedVersion                  at  \\\n",
      "0                  0               3.13.6 2024-02-02 00:21:11   \n",
      "1                  0               3.13.6 2024-02-01 23:49:05   \n",
      "2                  0               3.13.6 2024-02-01 23:18:18   \n",
      "3                  0               3.13.6 2024-02-01 22:51:16   \n",
      "4                  0               3.13.6 2024-02-01 22:27:32   \n",
      "...              ...                  ...                 ...   \n",
      "12930              0                 None 2019-04-24 12:32:58   \n",
      "12931              0                 None 2019-04-24 12:32:46   \n",
      "12932              0                 None 2019-04-24 12:32:35   \n",
      "12933              0                 None 2019-04-24 12:32:22   \n",
      "12934              0                 None 2019-04-23 11:51:33   \n",
      "\n",
      "                                            replyContent           repliedAt  \\\n",
      "0                                                   None                 NaT   \n",
      "1                                                   None                 NaT   \n",
      "2                                                   None                 NaT   \n",
      "3                                                   None                 NaT   \n",
      "4                                                   None                 NaT   \n",
      "...                                                  ...                 ...   \n",
      "12930  안녕하세요, 이나정 님.\\n\\n외국인 손님들과 회화를 하실 수 있게 도와드리겠습니다... 2019-04-29 06:36:11   \n",
      "12931  안녕하세요, 신미진 님.\\n\\n앱을 꾸준히 잘 사용하고 계신다니 다행입니다. 시간이... 2019-04-29 06:35:20   \n",
      "12932  안녕하세요, 권유정 님.\\n\\n좋은 리뷰를 남겨주셔서 감사합니다. 말씀하신 것처럼 ... 2019-04-29 06:34:21   \n",
      "12933  안녕하세요, 류송희 님.\\n\\n좋은 친구분이신 것 같습니다. :)\\n\\nTeam S... 2019-04-29 06:33:11   \n",
      "12934  안녕하세요 노투르담드파리 님.\\n\\n좋은 의견을 남겨주셔서 감사합니다. 더욱더 발전... 2019-04-29 06:32:31   \n",
      "\n",
      "      appVersion  \n",
      "0         3.13.6  \n",
      "1         3.13.6  \n",
      "2         3.13.6  \n",
      "3         3.13.6  \n",
      "4         3.13.6  \n",
      "...          ...  \n",
      "12930       None  \n",
      "12931       None  \n",
      "12932       None  \n",
      "12933       None  \n",
      "12934       None  \n",
      "\n",
      "[12935 rows x 11 columns]\n"
     ]
    }
   ],
   "source": [
    "import pandas as pd\n",
    "df = pd.DataFrame(result)\n",
    "\n",
    "# 결과 출력\n",
    "print(df)"
   ]
  },
  {
   "cell_type": "code",
   "execution_count": 15,
   "metadata": {},
   "outputs": [
    {
     "data": {
      "text/html": [
       "<div>\n",
       "<style scoped>\n",
       "    .dataframe tbody tr th:only-of-type {\n",
       "        vertical-align: middle;\n",
       "    }\n",
       "\n",
       "    .dataframe tbody tr th {\n",
       "        vertical-align: top;\n",
       "    }\n",
       "\n",
       "    .dataframe thead th {\n",
       "        text-align: right;\n",
       "    }\n",
       "</style>\n",
       "<table border=\"1\" class=\"dataframe\">\n",
       "  <thead>\n",
       "    <tr style=\"text-align: right;\">\n",
       "      <th></th>\n",
       "      <th>reviewId</th>\n",
       "      <th>userName</th>\n",
       "      <th>userImage</th>\n",
       "      <th>content</th>\n",
       "      <th>score</th>\n",
       "      <th>thumbsUpCount</th>\n",
       "      <th>reviewCreatedVersion</th>\n",
       "      <th>at</th>\n",
       "      <th>replyContent</th>\n",
       "      <th>repliedAt</th>\n",
       "      <th>appVersion</th>\n",
       "    </tr>\n",
       "  </thead>\n",
       "  <tbody>\n",
       "    <tr>\n",
       "      <th>0</th>\n",
       "      <td>68fa3f50-787a-44f7-8538-a55e097a623a</td>\n",
       "      <td>Soon-hong Kwon</td>\n",
       "      <td>https://play-lh.googleusercontent.com/a/ACg8oc...</td>\n",
       "      <td>쉽고 재미있음.</td>\n",
       "      <td>5</td>\n",
       "      <td>0</td>\n",
       "      <td>3.13.6</td>\n",
       "      <td>2024-02-02 00:21:11</td>\n",
       "      <td>None</td>\n",
       "      <td>NaT</td>\n",
       "      <td>3.13.6</td>\n",
       "    </tr>\n",
       "    <tr>\n",
       "      <th>1</th>\n",
       "      <td>0e7679e9-a79d-41e3-a8d3-10455380b2d1</td>\n",
       "      <td>DongHyun Jang</td>\n",
       "      <td>https://play-lh.googleusercontent.com/a/ACg8oc...</td>\n",
       "      <td>좋아요</td>\n",
       "      <td>5</td>\n",
       "      <td>0</td>\n",
       "      <td>3.13.6</td>\n",
       "      <td>2024-02-01 23:49:05</td>\n",
       "      <td>None</td>\n",
       "      <td>NaT</td>\n",
       "      <td>3.13.6</td>\n",
       "    </tr>\n",
       "    <tr>\n",
       "      <th>2</th>\n",
       "      <td>7ccf7571-706d-4efa-9dae-d1ebe5462465</td>\n",
       "      <td>정선홍</td>\n",
       "      <td>https://play-lh.googleusercontent.com/a/ACg8oc...</td>\n",
       "      <td>존잼;;;;빨리 다음수업하고싶어요</td>\n",
       "      <td>5</td>\n",
       "      <td>0</td>\n",
       "      <td>3.13.6</td>\n",
       "      <td>2024-02-01 23:18:18</td>\n",
       "      <td>None</td>\n",
       "      <td>NaT</td>\n",
       "      <td>3.13.6</td>\n",
       "    </tr>\n",
       "  </tbody>\n",
       "</table>\n",
       "</div>"
      ],
      "text/plain": [
       "                               reviewId        userName  \\\n",
       "0  68fa3f50-787a-44f7-8538-a55e097a623a  Soon-hong Kwon   \n",
       "1  0e7679e9-a79d-41e3-a8d3-10455380b2d1   DongHyun Jang   \n",
       "2  7ccf7571-706d-4efa-9dae-d1ebe5462465             정선홍   \n",
       "\n",
       "                                           userImage             content  \\\n",
       "0  https://play-lh.googleusercontent.com/a/ACg8oc...            쉽고 재미있음.   \n",
       "1  https://play-lh.googleusercontent.com/a/ACg8oc...                 좋아요   \n",
       "2  https://play-lh.googleusercontent.com/a/ACg8oc...  존잼;;;;빨리 다음수업하고싶어요   \n",
       "\n",
       "   score  thumbsUpCount reviewCreatedVersion                  at replyContent  \\\n",
       "0      5              0               3.13.6 2024-02-02 00:21:11         None   \n",
       "1      5              0               3.13.6 2024-02-01 23:49:05         None   \n",
       "2      5              0               3.13.6 2024-02-01 23:18:18         None   \n",
       "\n",
       "  repliedAt appVersion  \n",
       "0       NaT     3.13.6  \n",
       "1       NaT     3.13.6  \n",
       "2       NaT     3.13.6  "
      ]
     },
     "execution_count": 15,
     "metadata": {},
     "output_type": "execute_result"
    }
   ],
   "source": [
    "df.head(3)"
   ]
  },
  {
   "cell_type": "code",
   "execution_count": 17,
   "metadata": {},
   "outputs": [
    {
     "data": {
      "text/plain": [
       "content\n",
       "좋아요                                                               228\n",
       "굿                                                                 187\n",
       "Good                                                               85\n",
       "재밌어요                                                               74\n",
       "재미있어요                                                              49\n",
       "                                                                 ... \n",
       "이메일로 가입하기 진행이 안됩니다 이메일 입력하고 다음으로넘어가는 버튼이 없어요 아래로 스크롤도 불가능 하구요       1\n",
       "개선 바로 해주셔서 감사합니다. 인식률 좋아지고 인식속도도 빨라져서 시원시원하네요. 굿굿                   1\n",
       "일주일 무료체험 수업후 유료 1년 결제했습니다^^ 스피킹 수업 실전대화도 자꾸 말해볼수있어서 익숙해지고있어요^^      1\n",
       "좋아보이기는 하지만 무료앱 아님 나처럼 낚여서 들어오지마세요.                                  1\n",
       "웬만해서 리 뷰 안 남기는 사람인데요 이 앱은 괜찮네요!!                                    1\n",
       "Name: count, Length: 11648, dtype: int64"
      ]
     },
     "execution_count": 17,
     "metadata": {},
     "output_type": "execute_result"
    }
   ],
   "source": [
    "df['content'].value_counts()"
   ]
  },
  {
   "cell_type": "code",
   "execution_count": 18,
   "metadata": {},
   "outputs": [],
   "source": [
    "df.to_csv('../dataset/dataset_12935.csv')"
   ]
  }
 ],
 "metadata": {
  "kernelspec": {
   "display_name": "Python 3",
   "language": "python",
   "name": "python3"
  },
  "language_info": {
   "codemirror_mode": {
    "name": "ipython",
    "version": 3
   },
   "file_extension": ".py",
   "mimetype": "text/x-python",
   "name": "python",
   "nbconvert_exporter": "python",
   "pygments_lexer": "ipython3",
   "version": "3.11.5"
  }
 },
 "nbformat": 4,
 "nbformat_minor": 2
}
