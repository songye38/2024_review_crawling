{
 "cells": [
  {
   "cell_type": "code",
   "execution_count": 87,
   "metadata": {},
   "outputs": [],
   "source": [
    "import time\n",
    "import selenium\n",
    "from selenium import webdriver\n",
    "from selenium.webdriver.support.ui import WebDriverWait\n",
    "from selenium.webdriver.common.keys import Keys\n",
    "from selenium.webdriver.common.by import By"
   ]
  },
  {
   "cell_type": "code",
   "execution_count": 88,
   "metadata": {},
   "outputs": [],
   "source": [
    "driver = webdriver.Chrome()"
   ]
  },
  {
   "cell_type": "code",
   "execution_count": 89,
   "metadata": {},
   "outputs": [],
   "source": [
    "url = 'https://play.google.com/store/apps/details?id=com.selabs.speak&hl=ko&gl=US&pli=1' #크롤링주소\n",
    "# 페이지 열기\n",
    "driver.get(url)\n",
    "# 페이지 로딩 대기\n",
    "wait = WebDriverWait(driver, 50)\n",
    "\n",
    "driver.execute_script(\"window.scrollTo(0, document.body.scrollHeight);\")"
   ]
  },
  {
   "cell_type": "markdown",
   "metadata": {},
   "source": [
    "## 작성자 이름"
   ]
  },
  {
   "cell_type": "code",
   "execution_count": 96,
   "metadata": {},
   "outputs": [
    {
     "data": {
      "text/plain": [
       "2003"
      ]
     },
     "execution_count": 96,
     "metadata": {},
     "output_type": "execute_result"
    }
   ],
   "source": [
    "names = driver.find_elements(by=By.XPATH, value = '//div[@class=\"X5PpBb\"]')"
   ]
  },
  {
   "cell_type": "code",
   "execution_count": 103,
   "metadata": {},
   "outputs": [],
   "source": [
    "names_list = []\n",
    "for name in names:\n",
    "    names_list.append(name.text)"
   ]
  },
  {
   "cell_type": "markdown",
   "metadata": {},
   "source": [
    "## 리뷰 작성 날짜"
   ]
  },
  {
   "cell_type": "code",
   "execution_count": 104,
   "metadata": {},
   "outputs": [
    {
     "data": {
      "text/plain": [
       "2003"
      ]
     },
     "execution_count": 104,
     "metadata": {},
     "output_type": "execute_result"
    }
   ],
   "source": [
    "dates = driver.find_elements(by=By.XPATH, value = '//span[@class=\"bp9Aid\"]')\n",
    "len(dates)\n",
    "# for name in dates:\n",
    "#     print(name.text)"
   ]
  },
  {
   "cell_type": "code",
   "execution_count": 107,
   "metadata": {},
   "outputs": [],
   "source": [
    "dates_list = []\n",
    "for date in dates:\n",
    "    dates_list.append(date.text)"
   ]
  },
  {
   "cell_type": "code",
   "execution_count": 110,
   "metadata": {},
   "outputs": [
    {
     "data": {
      "text/plain": [
       "'2024년 1월 18일'"
      ]
     },
     "execution_count": 110,
     "metadata": {},
     "output_type": "execute_result"
    }
   ],
   "source": [
    "dates_list[2]"
   ]
  },
  {
   "cell_type": "markdown",
   "metadata": {},
   "source": [
    "## 리뷰 글"
   ]
  },
  {
   "cell_type": "code",
   "execution_count": 111,
   "metadata": {},
   "outputs": [],
   "source": [
    "reviews = driver.find_elements(by=By.XPATH, value = '//div[@class=\"h3YV2d\"]')\n",
    "# for name in dates:\n",
    "#     print(name.text)"
   ]
  },
  {
   "cell_type": "code",
   "execution_count": 112,
   "metadata": {},
   "outputs": [],
   "source": [
    "reviews_list = []\n",
    "for review in reviews:\n",
    "    reviews_list.append(review.text)"
   ]
  },
  {
   "cell_type": "code",
   "execution_count": 113,
   "metadata": {},
   "outputs": [
    {
     "data": {
      "text/plain": [
       "['아직은 완전 초보자 단계라 크게 어려운 점은 없지만 직접 말하는 습관을 들이는 데 도움이 많이 되는 것 같습니다. 그리고 제 발음에 문제가 있는 점도 있겠지만 아주 간단한 문장인데도 인식하는데 시간이 좀 걸립니다. 발음이 틀린 것이 아닌데도 한참 후 맞다는 반응이 나와서 좀 의아할 때가 있어요.',\n",
       " \"대체적으로 만족 스럽습니다. 특히 시간 구애 안받고 연습을 할 수 있어서 좋습니다. 그런데 가끔 진행중 error가 나옵니다. 스피킹 연습 중 48% 진행에서(I really don't like Mexican food.) 엡이 작동이 안됩니다. 그리고 답변 시 조금 버벅대거나 한국말로 길게 대답하면 로딩 표시만 계속되고 진행이 안 됩니다.\",\n",
       " '배운 문장을 사용할 수 있도록 원어민과 대화하는 듯한 컨텐츠는 좋은 것 같아요. 그런데, 보통 출근길에 공부를 하는데 지히철이나 버스에서는 음성인식이 심하게 안되서 좀 답답하네요. 음성인식이 안되다보니 레슨 후 문장 연습하는 부분을 넘기고 싶은데도 빠르게 넘기기가 안되서 좀 답답한 것도 있습니다.']"
      ]
     },
     "execution_count": 113,
     "metadata": {},
     "output_type": "execute_result"
    }
   ],
   "source": [
    "reviews_list[2:5]"
   ]
  },
  {
   "cell_type": "markdown",
   "metadata": {},
   "source": [
    "## 별점"
   ]
  },
  {
   "cell_type": "code",
   "execution_count": 114,
   "metadata": {},
   "outputs": [],
   "source": [
    "import re\n",
    "ratings = driver.find_elements(By.CSS_SELECTOR, 'div[role=\"img\"].iXRFPc')"
   ]
  },
  {
   "cell_type": "code",
   "execution_count": 115,
   "metadata": {},
   "outputs": [],
   "source": [
    "# 모든 엘리먼트에 대한 처리\n",
    "ratings_list = []\n",
    "for element in ratings:\n",
    "    aria_label = element.get_attribute('aria-label').split()[3]\n",
    "    pattern = re.compile(r'(\\d)개를\\b')\n",
    "\n",
    "    # 패턴에 매치되는 부분을 찾아 출력\n",
    "    match = re.search(pattern, aria_label)\n",
    "    if match:\n",
    "        result = match.group(1)\n",
    "        ratings_list.append(result)\n",
    "        #print(result)"
   ]
  },
  {
   "cell_type": "code",
   "execution_count": 116,
   "metadata": {},
   "outputs": [
    {
     "data": {
      "text/plain": [
       "['4', '4', '4']"
      ]
     },
     "execution_count": 116,
     "metadata": {},
     "output_type": "execute_result"
    }
   ],
   "source": [
    "ratings_list[2:5]"
   ]
  },
  {
   "cell_type": "markdown",
   "metadata": {},
   "source": [
    "## 이 리뷰가 유용하다고 생각한 사람의 숫자"
   ]
  },
  {
   "cell_type": "code",
   "execution_count": 117,
   "metadata": {},
   "outputs": [],
   "source": [
    "num_of_helpful = driver.find_elements(by=By.XPATH, value = '//div[@class=\"AJTPZc\"]')"
   ]
  },
  {
   "cell_type": "code",
   "execution_count": 118,
   "metadata": {},
   "outputs": [],
   "source": [
    "num_of_helpful_list = []\n",
    "for nums in num_of_helpful:\n",
    "    num_of_helpful_list.append(nums.text)"
   ]
  },
  {
   "cell_type": "code",
   "execution_count": 119,
   "metadata": {},
   "outputs": [
    {
     "data": {
      "text/plain": [
       "['사용자 7명이 이 리뷰가 유용하다고 평가함',\n",
       " '사용자 15명이 이 리뷰가 유용하다고 평가함',\n",
       " '사용자 16명이 이 리뷰가 유용하다고 평가함']"
      ]
     },
     "execution_count": 119,
     "metadata": {},
     "output_type": "execute_result"
    }
   ],
   "source": [
    "num_of_helpful_list[2:5]"
   ]
  },
  {
   "cell_type": "markdown",
   "metadata": {},
   "source": [
    "- names_list = []\n",
    "- dates_list = []\n",
    "- reviews_list = []\n",
    "- ratings_list = []\n",
    "- num_of_helpful_list = []"
   ]
  },
  {
   "cell_type": "code",
   "execution_count": 120,
   "metadata": {},
   "outputs": [
    {
     "name": "stdout",
     "output_type": "stream",
     "text": [
      "0                    \n",
      "1                    \n",
      "2                    \n",
      "3                 임철식\n",
      "4             신DDonas\n",
      "            ...      \n",
      "1998              뽀사마\n",
      "1999              전선혜\n",
      "2000              김정아\n",
      "2001    JEONG SAM HAN\n",
      "2002      Yu Seon Lee\n",
      "Name: user_name, Length: 2003, dtype: object\n"
     ]
    }
   ],
   "source": [
    "import pandas as pd\n",
    "\n",
    "# 리스트를 DataFrame의 Series로 변환\n",
    "names_series = pd.Series(names_list, name='user_name')\n",
    "\n",
    "# 결과 출력\n",
    "print(names_series)\n"
   ]
  },
  {
   "cell_type": "code",
   "execution_count": 121,
   "metadata": {},
   "outputs": [],
   "source": [
    "date_series = pd.Series(dates_list, name='date')\n",
    "review_series = pd.Series(reviews_list, name='review')\n",
    "rating_series = pd.Series(ratings_list, name='rating')\n",
    "votes_series = pd.Series(num_of_helpful_list, name='votes')"
   ]
  },
  {
   "cell_type": "code",
   "execution_count": 122,
   "metadata": {},
   "outputs": [
    {
     "data": {
      "text/plain": [
       "0                   \n",
       "1                   \n",
       "2       2024년 1월 18일\n",
       "3       2024년 1월 25일\n",
       "4       2024년 1월 17일\n",
       "            ...     \n",
       "1998     2023년 2월 2일\n",
       "1999     2023년 1월 3일\n",
       "2000     2021년 1월 5일\n",
       "2001    2021년 9월 25일\n",
       "2002    2021년 2월 22일\n",
       "Name: date, Length: 2003, dtype: object"
      ]
     },
     "execution_count": 122,
     "metadata": {},
     "output_type": "execute_result"
    }
   ],
   "source": [
    "date_series"
   ]
  },
  {
   "cell_type": "code",
   "execution_count": 123,
   "metadata": {},
   "outputs": [
    {
     "name": "stdout",
     "output_type": "stream",
     "text": [
      "          user_name          date  \\\n",
      "0                                   \n",
      "1                                   \n",
      "2                    2024년 1월 18일   \n",
      "3               임철식  2024년 1월 25일   \n",
      "4           신DDonas  2024년 1월 17일   \n",
      "...             ...           ...   \n",
      "1998            뽀사마   2023년 2월 2일   \n",
      "1999            전선혜   2023년 1월 3일   \n",
      "2000            김정아   2021년 1월 5일   \n",
      "2001  JEONG SAM HAN  2021년 9월 25일   \n",
      "2002    Yu Seon Lee  2021년 2월 22일   \n",
      "\n",
      "                                                 review rating  \\\n",
      "0                                                            4   \n",
      "1                                                            4   \n",
      "2     아직은 완전 초보자 단계라 크게 어려운 점은 없지만 직접 말하는 습관을 들이는 데 ...      4   \n",
      "3     대체적으로 만족 스럽습니다. 특히 시간 구애 안받고 연습을 할 수 있어서 좋습니다....      4   \n",
      "4     배운 문장을 사용할 수 있도록 원어민과 대화하는 듯한 컨텐츠는 좋은 것 같아요. 그...      4   \n",
      "...                                                 ...    ...   \n",
      "1998  AI와 대화, 반복기능, 발음 교정기능 다 만족하고 있습니다. 솔직히 스피킹 맥스 ...      5   \n",
      "1999  AI튜더가 재미는 있는데 하다가 오류나서 중단되면 다시 처음부터 시작되네요. 몇번씩...      3   \n",
      "2000  무심코 따라하다보니 기억하고 생각하고 어제한 부분도 다시 되새김이 되고 그러네요. ...      5   \n",
      "2001  내용은 매우만족합니다. 그런데, 랙이 가끔 있고 음성인식에서 오류가 많아서 결국은 ...      4   \n",
      "2002  벌써 두번째 연간정기구독입니다. 꾸준히 하려고 노력하고있어요. 쉽고재밌는표현이많고 ...      5   \n",
      "\n",
      "                         votes  \n",
      "0                               \n",
      "1                               \n",
      "2      사용자 7명이 이 리뷰가 유용하다고 평가함  \n",
      "3     사용자 15명이 이 리뷰가 유용하다고 평가함  \n",
      "4     사용자 16명이 이 리뷰가 유용하다고 평가함  \n",
      "...                        ...  \n",
      "1998                       NaN  \n",
      "1999                       NaN  \n",
      "2000                       NaN  \n",
      "2001                       NaN  \n",
      "2002                       NaN  \n",
      "\n",
      "[2003 rows x 5 columns]\n"
     ]
    }
   ],
   "source": [
    "# Series들을 열로 합쳐서 DataFrame 생성\n",
    "df = pd.concat([names_series, date_series,review_series,rating_series,votes_series], axis=1)\n",
    "\n",
    "# 결과 출력\n",
    "print(df)"
   ]
  },
  {
   "cell_type": "code",
   "execution_count": 125,
   "metadata": {},
   "outputs": [
    {
     "data": {
      "text/html": [
       "<div>\n",
       "<style scoped>\n",
       "    .dataframe tbody tr th:only-of-type {\n",
       "        vertical-align: middle;\n",
       "    }\n",
       "\n",
       "    .dataframe tbody tr th {\n",
       "        vertical-align: top;\n",
       "    }\n",
       "\n",
       "    .dataframe thead th {\n",
       "        text-align: right;\n",
       "    }\n",
       "</style>\n",
       "<table border=\"1\" class=\"dataframe\">\n",
       "  <thead>\n",
       "    <tr style=\"text-align: right;\">\n",
       "      <th></th>\n",
       "      <th>user_name</th>\n",
       "      <th>date</th>\n",
       "      <th>review</th>\n",
       "      <th>rating</th>\n",
       "      <th>votes</th>\n",
       "    </tr>\n",
       "  </thead>\n",
       "  <tbody>\n",
       "    <tr>\n",
       "      <th>0</th>\n",
       "      <td></td>\n",
       "      <td></td>\n",
       "      <td></td>\n",
       "      <td>4</td>\n",
       "      <td></td>\n",
       "    </tr>\n",
       "    <tr>\n",
       "      <th>1</th>\n",
       "      <td></td>\n",
       "      <td></td>\n",
       "      <td></td>\n",
       "      <td>4</td>\n",
       "      <td></td>\n",
       "    </tr>\n",
       "    <tr>\n",
       "      <th>2</th>\n",
       "      <td></td>\n",
       "      <td>2024년 1월 18일</td>\n",
       "      <td>아직은 완전 초보자 단계라 크게 어려운 점은 없지만 직접 말하는 습관을 들이는 데 ...</td>\n",
       "      <td>4</td>\n",
       "      <td>사용자 7명이 이 리뷰가 유용하다고 평가함</td>\n",
       "    </tr>\n",
       "    <tr>\n",
       "      <th>3</th>\n",
       "      <td>임철식</td>\n",
       "      <td>2024년 1월 25일</td>\n",
       "      <td>대체적으로 만족 스럽습니다. 특히 시간 구애 안받고 연습을 할 수 있어서 좋습니다....</td>\n",
       "      <td>4</td>\n",
       "      <td>사용자 15명이 이 리뷰가 유용하다고 평가함</td>\n",
       "    </tr>\n",
       "    <tr>\n",
       "      <th>4</th>\n",
       "      <td>신DDonas</td>\n",
       "      <td>2024년 1월 17일</td>\n",
       "      <td>배운 문장을 사용할 수 있도록 원어민과 대화하는 듯한 컨텐츠는 좋은 것 같아요. 그...</td>\n",
       "      <td>4</td>\n",
       "      <td>사용자 16명이 이 리뷰가 유용하다고 평가함</td>\n",
       "    </tr>\n",
       "    <tr>\n",
       "      <th>5</th>\n",
       "      <td>재수좋은야옹이</td>\n",
       "      <td>2024년 1월 18일</td>\n",
       "      <td>아직은 완전 초보자 단계라 크게 어려운 점은 없지만 직접 말하는 습관을 들이는 데 ...</td>\n",
       "      <td>4</td>\n",
       "      <td>사용자 7명이 이 리뷰가 유용하다고 평가함</td>\n",
       "    </tr>\n",
       "    <tr>\n",
       "      <th>6</th>\n",
       "      <td>박소현</td>\n",
       "      <td>2024년 1월 18일</td>\n",
       "      <td>매일 짧은 시간을 내서 수업하는 것이 참 유용하네요. 거기에 AI 가 수업을 해 주...</td>\n",
       "      <td>5</td>\n",
       "      <td>사용자 1명이 이 리뷰가 유용하다고 평가함</td>\n",
       "    </tr>\n",
       "    <tr>\n",
       "      <th>7</th>\n",
       "      <td>최써니</td>\n",
       "      <td>2024년 1월 30일</td>\n",
       "      <td>대단한 정성과 의지가 아니면 이앱의 무료체험후 해지는 어럽습니다. 모든사항을 열심히...</td>\n",
       "      <td>1</td>\n",
       "      <td>사용자 154명이 이 리뷰가 유용하다고 평가함</td>\n",
       "    </tr>\n",
       "    <tr>\n",
       "      <th>8</th>\n",
       "      <td>강다영</td>\n",
       "      <td>2023년 12월 31일</td>\n",
       "      <td>아주 좋은것같아요! 다만 프리톡 UI중에 아쉬운 점이 몇가지 있습니다 1. 대화중에...</td>\n",
       "      <td>4</td>\n",
       "      <td>사용자 16명이 이 리뷰가 유용하다고 평가함</td>\n",
       "    </tr>\n",
       "    <tr>\n",
       "      <th>9</th>\n",
       "      <td>양정팔</td>\n",
       "      <td>2024년 1월 22일</td>\n",
       "      <td>오늘 처음 설치하고 무료체험으로 연습하고 있는중이예요. 너무 쉽게 잘 알려주셔서 만...</td>\n",
       "      <td>4</td>\n",
       "      <td>사용자 4명이 이 리뷰가 유용하다고 평가함</td>\n",
       "    </tr>\n",
       "  </tbody>\n",
       "</table>\n",
       "</div>"
      ],
      "text/plain": [
       "  user_name           date                                             review  \\\n",
       "0                                                                               \n",
       "1                                                                               \n",
       "2             2024년 1월 18일  아직은 완전 초보자 단계라 크게 어려운 점은 없지만 직접 말하는 습관을 들이는 데 ...   \n",
       "3       임철식   2024년 1월 25일  대체적으로 만족 스럽습니다. 특히 시간 구애 안받고 연습을 할 수 있어서 좋습니다....   \n",
       "4   신DDonas   2024년 1월 17일  배운 문장을 사용할 수 있도록 원어민과 대화하는 듯한 컨텐츠는 좋은 것 같아요. 그...   \n",
       "5   재수좋은야옹이   2024년 1월 18일  아직은 완전 초보자 단계라 크게 어려운 점은 없지만 직접 말하는 습관을 들이는 데 ...   \n",
       "6       박소현   2024년 1월 18일  매일 짧은 시간을 내서 수업하는 것이 참 유용하네요. 거기에 AI 가 수업을 해 주...   \n",
       "7       최써니   2024년 1월 30일  대단한 정성과 의지가 아니면 이앱의 무료체험후 해지는 어럽습니다. 모든사항을 열심히...   \n",
       "8       강다영  2023년 12월 31일  아주 좋은것같아요! 다만 프리톡 UI중에 아쉬운 점이 몇가지 있습니다 1. 대화중에...   \n",
       "9       양정팔   2024년 1월 22일  오늘 처음 설치하고 무료체험으로 연습하고 있는중이예요. 너무 쉽게 잘 알려주셔서 만...   \n",
       "\n",
       "  rating                      votes  \n",
       "0      4                             \n",
       "1      4                             \n",
       "2      4    사용자 7명이 이 리뷰가 유용하다고 평가함  \n",
       "3      4   사용자 15명이 이 리뷰가 유용하다고 평가함  \n",
       "4      4   사용자 16명이 이 리뷰가 유용하다고 평가함  \n",
       "5      4    사용자 7명이 이 리뷰가 유용하다고 평가함  \n",
       "6      5    사용자 1명이 이 리뷰가 유용하다고 평가함  \n",
       "7      1  사용자 154명이 이 리뷰가 유용하다고 평가함  \n",
       "8      4   사용자 16명이 이 리뷰가 유용하다고 평가함  \n",
       "9      4    사용자 4명이 이 리뷰가 유용하다고 평가함  "
      ]
     },
     "execution_count": 125,
     "metadata": {},
     "output_type": "execute_result"
    }
   ],
   "source": [
    "df.head(10)"
   ]
  },
  {
   "cell_type": "code",
   "execution_count": 126,
   "metadata": {},
   "outputs": [],
   "source": [
    "df.to_csv(\"../dataset/data_2000.csv\")"
   ]
  }
 ],
 "metadata": {
  "kernelspec": {
   "display_name": "Python 3",
   "language": "python",
   "name": "python3"
  },
  "language_info": {
   "codemirror_mode": {
    "name": "ipython",
    "version": 3
   },
   "file_extension": ".py",
   "mimetype": "text/x-python",
   "name": "python",
   "nbconvert_exporter": "python",
   "pygments_lexer": "ipython3",
   "version": "3.11.5"
  }
 },
 "nbformat": 4,
 "nbformat_minor": 2
}
