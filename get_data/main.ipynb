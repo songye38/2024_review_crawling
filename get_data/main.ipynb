{
 "cells": [
  {
   "cell_type": "code",
   "execution_count": 87,
   "metadata": {},
   "outputs": [],
   "source": [
    "import time\n",
    "import selenium\n",
    "from selenium import webdriver\n",
    "from selenium.webdriver.support.ui import WebDriverWait\n",
    "from selenium.webdriver.common.keys import Keys\n",
    "from selenium.webdriver.common.by import By"
   ]
  },
  {
   "cell_type": "code",
   "execution_count": 88,
   "metadata": {},
   "outputs": [],
   "source": [
    "driver = webdriver.Chrome()"
   ]
  },
  {
   "cell_type": "code",
   "execution_count": 89,
   "metadata": {},
   "outputs": [],
   "source": [
    "url = 'https://play.google.com/store/apps/details?id=com.selabs.speak&hl=ko&gl=US&pli=1' #크롤링주소\n",
    "# 페이지 열기\n",
    "driver.get(url)\n",
    "# 페이지 로딩 대기\n",
    "wait = WebDriverWait(driver, 50)\n",
    "\n",
    "driver.execute_script(\"window.scrollTo(0, document.body.scrollHeight);\")"
   ]
  },
  {
   "cell_type": "markdown",
   "metadata": {},
   "source": [
    "## 작성자 이름"
   ]
  },
  {
   "cell_type": "code",
   "execution_count": 96,
   "metadata": {},
   "outputs": [
    {
     "data": {
      "text/plain": [
       "2003"
      ]
     },
     "execution_count": 96,
     "metadata": {},
     "output_type": "execute_result"
    }
   ],
   "source": [
    "names = driver.find_elements(by=By.XPATH, value = '//div[@class=\"X5PpBb\"]')"
   ]
  },
  {
   "cell_type": "code",
   "execution_count": 103,
   "metadata": {},
   "outputs": [],
   "source": [
    "names_list = []\n",
    "for name in names:\n",
    "    names_list.append(name.text)"
   ]
  },
  {
   "cell_type": "markdown",
   "metadata": {},
   "source": [
    "## 리뷰 작성 날짜"
   ]
  },
  {
   "cell_type": "code",
   "execution_count": 104,
   "metadata": {},
   "outputs": [
    {
     "data": {
      "text/plain": [
       "2003"
      ]
     },
     "execution_count": 104,
     "metadata": {},
     "output_type": "execute_result"
    }
   ],
   "source": [
    "dates = driver.find_elements(by=By.XPATH, value = '//span[@class=\"bp9Aid\"]')\n",
    "len(dates)\n",
    "# for name in dates:\n",
    "#     print(name.text)"
   ]
  },
  {
   "cell_type": "code",
   "execution_count": 107,
   "metadata": {},
   "outputs": [],
   "source": [
    "dates_list = []\n",
    "for date in dates:\n",
    "    dates_list.append(date.text)"
   ]
  },
  {
   "cell_type": "code",
   "execution_count": 110,
   "metadata": {},
   "outputs": [
    {
     "data": {
      "text/plain": [
       "'2024년 1월 18일'"
      ]
     },
     "execution_count": 110,
     "metadata": {},
     "output_type": "execute_result"
    }
   ],
   "source": [
    "dates_list[2]"
   ]
  },
  {
   "cell_type": "markdown",
   "metadata": {},
   "source": [
    "## 리뷰 글"
   ]
  },
  {
   "cell_type": "code",
   "execution_count": 111,
   "metadata": {},
   "outputs": [],
   "source": [
    "reviews = driver.find_elements(by=By.XPATH, value = '//div[@class=\"h3YV2d\"]')\n",
    "# for name in dates:\n",
    "#     print(name.text)"
   ]
  },
  {
   "cell_type": "code",
   "execution_count": 112,
   "metadata": {},
   "outputs": [],
   "source": [
    "reviews_list = []\n",
    "for review in reviews:\n",
    "    reviews_list.append(review.text)"
   ]
  },
  {
   "cell_type": "code",
   "execution_count": 113,
   "metadata": {},
   "outputs": [
    {
     "data": {
      "text/plain": [
       "['아직은 완전 초보자 단계라 크게 어려운 점은 없지만 직접 말하는 습관을 들이는 데 도움이 많이 되는 것 같습니다. 그리고 제 발음에 문제가 있는 점도 있겠지만 아주 간단한 문장인데도 인식하는데 시간이 좀 걸립니다. 발음이 틀린 것이 아닌데도 한참 후 맞다는 반응이 나와서 좀 의아할 때가 있어요.',\n",
       " \"대체적으로 만족 스럽습니다. 특히 시간 구애 안받고 연습을 할 수 있어서 좋습니다. 그런데 가끔 진행중 error가 나옵니다. 스피킹 연습 중 48% 진행에서(I really don't like Mexican food.) 엡이 작동이 안됩니다. 그리고 답변 시 조금 버벅대거나 한국말로 길게 대답하면 로딩 표시만 계속되고 진행이 안 됩니다.\",\n",
       " '배운 문장을 사용할 수 있도록 원어민과 대화하는 듯한 컨텐츠는 좋은 것 같아요. 그런데, 보통 출근길에 공부를 하는데 지히철이나 버스에서는 음성인식이 심하게 안되서 좀 답답하네요. 음성인식이 안되다보니 레슨 후 문장 연습하는 부분을 넘기고 싶은데도 빠르게 넘기기가 안되서 좀 답답한 것도 있습니다.']"
      ]
     },
     "execution_count": 113,
     "metadata": {},
     "output_type": "execute_result"
    }
   ],
   "source": [
    "reviews_list[2:5]"
   ]
  },
  {
   "cell_type": "markdown",
   "metadata": {},
   "source": [
    "## 별점"
   ]
  },
  {
   "cell_type": "code",
   "execution_count": 114,
   "metadata": {},
   "outputs": [],
   "source": [
    "import re\n",
    "ratings = driver.find_elements(By.CSS_SELECTOR, 'div[role=\"img\"].iXRFPc')"
   ]
  },
  {
   "cell_type": "code",
   "execution_count": 115,
   "metadata": {},
   "outputs": [],
   "source": [
    "# 모든 엘리먼트에 대한 처리\n",
    "ratings_list = []\n",
    "for element in ratings:\n",
    "    aria_label = element.get_attribute('aria-label').split()[3]\n",
    "    pattern = re.compile(r'(\\d)개를\\b')\n",
    "\n",
    "    # 패턴에 매치되는 부분을 찾아 출력\n",
    "    match = re.search(pattern, aria_label)\n",
    "    if match:\n",
    "        result = match.group(1)\n",
    "        ratings_list.append(result)\n",
    "        #print(result)"
   ]
  },
  {
   "cell_type": "code",
   "execution_count": 116,
   "metadata": {},
   "outputs": [
    {
     "data": {
      "text/plain": [
       "['4', '4', '4']"
      ]
     },
     "execution_count": 116,
     "metadata": {},
     "output_type": "execute_result"
    }
   ],
   "source": [
    "ratings_list[2:5]"
   ]
  },
  {
   "cell_type": "markdown",
   "metadata": {},
   "source": [
    "## 이 리뷰가 유용하다고 생각한 사람의 숫자"
   ]
  },
  {
   "cell_type": "code",
   "execution_count": 117,
   "metadata": {},
   "outputs": [],
   "source": [
    "num_of_helpful = driver.find_elements(by=By.XPATH, value = '//div[@class=\"AJTPZc\"]')"
   ]
  },
  {
   "cell_type": "code",
   "execution_count": 118,
   "metadata": {},
   "outputs": [],
   "source": [
    "num_of_helpful_list = []\n",
    "for nums in num_of_helpful:\n",
    "    num_of_helpful_list.append(nums.text)"
   ]
  },
  {
   "cell_type": "code",
   "execution_count": 119,
   "metadata": {},
   "outputs": [
    {
     "data": {
      "text/plain": [
       "['사용자 7명이 이 리뷰가 유용하다고 평가함',\n",
       " '사용자 15명이 이 리뷰가 유용하다고 평가함',\n",
       " '사용자 16명이 이 리뷰가 유용하다고 평가함']"
      ]
     },
     "execution_count": 119,
     "metadata": {},
     "output_type": "execute_result"
    }
   ],
   "source": [
    "num_of_helpful_list[2:5]"
   ]
  }
 ],
 "metadata": {
  "kernelspec": {
   "display_name": "Python 3",
   "language": "python",
   "name": "python3"
  },
  "language_info": {
   "codemirror_mode": {
    "name": "ipython",
    "version": 3
   },
   "file_extension": ".py",
   "mimetype": "text/x-python",
   "name": "python",
   "nbconvert_exporter": "python",
   "pygments_lexer": "ipython3",
   "version": "3.11.5"
  }
 },
 "nbformat": 4,
 "nbformat_minor": 2
}
