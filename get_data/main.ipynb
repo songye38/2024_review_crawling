{
 "cells": [
  {
   "cell_type": "code",
   "execution_count": 87,
   "metadata": {},
   "outputs": [],
   "source": [
    "import time\n",
    "import selenium\n",
    "from selenium import webdriver\n",
    "from selenium.webdriver.support.ui import WebDriverWait\n",
    "from selenium.webdriver.common.keys import Keys\n",
    "from selenium.webdriver.common.by import By"
   ]
  },
  {
   "cell_type": "code",
   "execution_count": 88,
   "metadata": {},
   "outputs": [],
   "source": [
    "driver = webdriver.Chrome()"
   ]
  },
  {
   "cell_type": "code",
   "execution_count": 89,
   "metadata": {},
   "outputs": [],
   "source": [
    "url = 'https://play.google.com/store/apps/details?id=com.selabs.speak&hl=ko&gl=US&pli=1' #크롤링주소\n",
    "# 페이지 열기\n",
    "driver.get(url)\n",
    "# 페이지 로딩 대기\n",
    "wait = WebDriverWait(driver, 50)\n",
    "\n",
    "driver.execute_script(\"window.scrollTo(0, document.body.scrollHeight);\")"
   ]
  },
  {
   "cell_type": "markdown",
   "metadata": {},
   "source": [
    "## 작성자 이름"
   ]
  },
  {
   "cell_type": "code",
   "execution_count": 96,
   "metadata": {},
   "outputs": [
    {
     "data": {
      "text/plain": [
       "2003"
      ]
     },
     "execution_count": 96,
     "metadata": {},
     "output_type": "execute_result"
    }
   ],
   "source": [
    "names = driver.find_elements(by=By.XPATH, value = '//div[@class=\"X5PpBb\"]')\n",
    "# for name in names:\n",
    "#     print(name.text)"
   ]
  },
  {
   "cell_type": "code",
   "execution_count": 102,
   "metadata": {},
   "outputs": [
    {
     "data": {
      "text/plain": [
       "<selenium.webdriver.remote.webelement.WebElement (session=\"99c643434133dd2ec8b8e49507c6efb1\", element=\"4BFDDE544E711C7C5D301EAF6AE425A0_element_877\")>"
      ]
     },
     "execution_count": 102,
     "metadata": {},
     "output_type": "execute_result"
    }
   ],
   "source": [
    "names[0]"
   ]
  },
  {
   "cell_type": "markdown",
   "metadata": {},
   "source": [
    "## 리뷰 작성 날짜"
   ]
  },
  {
   "cell_type": "code",
   "execution_count": 97,
   "metadata": {},
   "outputs": [
    {
     "data": {
      "text/plain": [
       "2003"
      ]
     },
     "execution_count": 97,
     "metadata": {},
     "output_type": "execute_result"
    }
   ],
   "source": [
    "dates = driver.find_elements(by=By.XPATH, value = '//span[@class=\"bp9Aid\"]')\n",
    "len(dates)\n",
    "# for name in dates:\n",
    "#     print(name.text)"
   ]
  },
  {
   "cell_type": "markdown",
   "metadata": {},
   "source": [
    "## 리뷰 글"
   ]
  },
  {
   "cell_type": "code",
   "execution_count": 98,
   "metadata": {},
   "outputs": [],
   "source": [
    "reviews = driver.find_elements(by=By.XPATH, value = '//div[@class=\"h3YV2d\"]')\n",
    "# for name in dates:\n",
    "#     print(name.text)"
   ]
  },
  {
   "cell_type": "code",
   "execution_count": 99,
   "metadata": {},
   "outputs": [
    {
     "data": {
      "text/plain": [
       "2003"
      ]
     },
     "execution_count": 99,
     "metadata": {},
     "output_type": "execute_result"
    }
   ],
   "source": [
    "len(reviews)"
   ]
  },
  {
   "cell_type": "markdown",
   "metadata": {},
   "source": [
    "## 별점"
   ]
  },
  {
   "cell_type": "code",
   "execution_count": 100,
   "metadata": {},
   "outputs": [],
   "source": [
    "import re\n",
    "ratings = driver.find_elements(By.CSS_SELECTOR, 'div[role=\"img\"].iXRFPc')\n",
    "\n",
    "# 모든 엘리먼트에 대한 처리\n",
    "# for element in ratings:\n",
    "#     aria_label = element.get_attribute('aria-label').split()[3]\n",
    "#     pattern = re.compile(r'(\\d)개를\\b')\n",
    "\n",
    "#     # 패턴에 매치되는 부분을 찾아 출력\n",
    "#     match = re.search(pattern, aria_label)\n",
    "#     if match:\n",
    "#         result = match.group(1)\n",
    "#         print(result)"
   ]
  },
  {
   "cell_type": "markdown",
   "metadata": {},
   "source": [
    "## 이 리뷰가 유용하다고 생각한 사람의 숫자"
   ]
  },
  {
   "cell_type": "code",
   "execution_count": 101,
   "metadata": {},
   "outputs": [],
   "source": [
    "num_of_helpful = driver.find_elements(by=By.XPATH, value = '//div[@class=\"AJTPZc\"]')\n",
    "# for name in dates:\n",
    "#     if name != \"\":\n",
    "#         print(name.text)"
   ]
  }
 ],
 "metadata": {
  "kernelspec": {
   "display_name": "Python 3",
   "language": "python",
   "name": "python3"
  },
  "language_info": {
   "codemirror_mode": {
    "name": "ipython",
    "version": 3
   },
   "file_extension": ".py",
   "mimetype": "text/x-python",
   "name": "python",
   "nbconvert_exporter": "python",
   "pygments_lexer": "ipython3",
   "version": "3.11.5"
  }
 },
 "nbformat": 4,
 "nbformat_minor": 2
}
