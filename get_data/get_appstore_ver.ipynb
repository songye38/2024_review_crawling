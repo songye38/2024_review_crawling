{
 "cells": [
  {
   "cell_type": "code",
   "execution_count": 2,
   "metadata": {},
   "outputs": [
    {
     "name": "stderr",
     "output_type": "stream",
     "text": [
      "2024-02-03 02:36:57,810 [INFO] Base - Searching for app id\n",
      "2024-02-03 02:36:58,711 [INFO] Base - Initialised: AppStore('kr', 'speak', 1286609883)\n",
      "2024-02-03 02:36:58,711 [INFO] Base - Ready to fetch reviews from: https://apps.apple.com/kr/app/speak/id1286609883\n",
      "2024-02-03 02:37:04,000 [INFO] Base - [id:1286609883] Fetched 280 reviews (280 fetched in total)\n",
      "2024-02-03 02:37:09,380 [INFO] Base - [id:1286609883] Fetched 600 reviews (600 fetched in total)\n",
      "2024-02-03 02:37:14,741 [INFO] Base - [id:1286609883] Fetched 1280 reviews (1280 fetched in total)\n",
      "2024-02-03 02:37:19,841 [INFO] Base - [id:1286609883] Fetched 2900 reviews (2900 fetched in total)\n",
      "2024-02-03 02:37:25,200 [INFO] Base - [id:1286609883] Fetched 3200 reviews (3200 fetched in total)\n",
      "2024-02-03 02:37:30,586 [INFO] Base - [id:1286609883] Fetched 3500 reviews (3500 fetched in total)\n",
      "2024-02-03 02:37:32,649 [INFO] Base - [id:1286609883] Fetched 3627 reviews (3627 fetched in total)\n"
     ]
    },
    {
     "name": "stdout",
     "output_type": "stream",
     "text": [
      "3627\n"
     ]
    }
   ],
   "source": [
    "from app_store_scraper import AppStore\n",
    "from pprint import pprint\n",
    "\n",
    "minecraft = AppStore(country=\"kr\", app_name=\"speak\")\n",
    "minecraft.review()\n",
    "\n",
    "#pprint(minecraft.reviews)\n",
    "pprint(minecraft.reviews_count)"
   ]
  },
  {
   "cell_type": "code",
   "execution_count": 3,
   "metadata": {},
   "outputs": [
    {
     "data": {
      "text/plain": [
       "{'date': datetime.datetime(2019, 8, 1, 13, 31, 9),\n",
       " 'developerResponse': {'id': 9965122,\n",
       "  'body': \"안녕하세요, 아사이보이콭 님.\\n\\n좋은 리뷰를 남겨주셔서 감사합니다. 말씀하신 것처럼 스픽은 평소에 쉽게 다가갈 수 없던 '영어회화'라는 종목을 아주 손쉽고, 가볍게 접근하실 수 있도록 도와드릴 수가 있습니다. 노트에 정리까지 하신다는 말씀이 인상이 깊었습니다. 현재 개념 요약본을 완전히 리디자인하고 있으니, 기대하셔도 좋을 것 같습니다!\\n\\nTeam Speak\",\n",
       "  'modified': '2019-08-01T21:40:25Z'},\n",
       " 'review': '영어회화에 엄청 겁 많으신 분들! 스픽 설치해보세요!!!!!!!! 저는 전화 영어회화나, 인공지능이 탑재된 여러 어플들을 신중하게 찾던 와중에 인스타그램을 통해 스픽을 알게되었어요! 다른 어플들은 후기부터 찾아보고 의심하며 접근했는데 스픽은 신기하게도 어플먼저 깔게 되더라구요 ㅋㅋㅋ 인스타그램에서 받아보고 있었던 영어표현 알려주는 계정 관리자분께서 스픽을 함께 만들었다고 하셔서, 그 계정을 관리하시는 분이 제작한 거라면 믿음이 갔기에 가능했던 것 같아요! 스픽 어플 설치 후 무료로 지원되는 범위까지 다 학습해봤는데, 스피킹에 겁 많은 제가 어느샌가 재미를 붙이며 하고 있는 걸 발견했어요 :) 노트에 정리까지하며 하게되는 열정도 생기더라구요! 나중에는 한글로만 써져있는 것도 영어로 대답할 수 있도록 말이 트이게끔 도와주는 것도 정말 맘에 들어요! 앞으로 계속 이용할 것 같아요~ 좋은 컨텐츠들 많이 기다리며 기대할게요! 고맙습니다 스픽~~~',\n",
       " 'rating': 5,\n",
       " 'isEdited': False,\n",
       " 'title': 'Thank you so much',\n",
       " 'userName': '아사이보이콭'}"
      ]
     },
     "execution_count": 3,
     "metadata": {},
     "output_type": "execute_result"
    }
   ],
   "source": [
    "minecraft.reviews[3]"
   ]
  },
  {
   "cell_type": "code",
   "execution_count": 4,
   "metadata": {},
   "outputs": [
    {
     "name": "stdout",
     "output_type": "stream",
     "text": [
      "                    date                                  developerResponse  \\\n",
      "0    2020-02-10 23:29:57  {'id': 13449499, 'body': '안녕하세요, 또끼미 님.\n",
      "\n",
      "정성이 가...   \n",
      "1    2024-01-13 13:19:46                                                NaN   \n",
      "2    2021-02-16 15:23:23  {'id': 21294134, 'body': '안녕하세요:)\n",
      "\n",
      "진심을 담아서 이렇게...   \n",
      "3    2019-08-01 13:31:09  {'id': 9965122, 'body': '안녕하세요, 아사이보이콭 님.\n",
      "\n",
      "좋은 ...   \n",
      "4    2023-08-10 14:54:58  {'id': 38363968, 'body': '안녕하세요, 스픽 서포트팀입니다.\n",
      "\n",
      "...   \n",
      "...                  ...                                                ...   \n",
      "3622 2019-07-22 12:31:10  {'id': 9817551, 'body': '안녕하세요.\n",
      "\n",
      "언어는 매일 부담없이 접...   \n",
      "3623 2019-07-24 07:27:20  {'id': 9664848, 'body': '안녕하세요, 왕공주당 님.\n",
      "\n",
      "feedb...   \n",
      "3624 2024-02-01 12:04:33                                                NaN   \n",
      "3625 2019-06-10 12:01:12  {'id': 8914289, 'body': '안녕하세요, 물꼬기 님.\n",
      "\n",
      "건설적인 리...   \n",
      "3626 2024-02-01 12:20:05                                                NaN   \n",
      "\n",
      "                                                 review  rating  isEdited  \\\n",
      "0     우선 영어 학습 어플 중에서 제일 만족스러워서 월간 결제를 했습니다. 연간 결제도 ...       5     False   \n",
      "1     무료체험 해보고 싶어서 7일 무료체험을 했는데 카드등록을 먼저 하라고 해서 했더니 ...       4     False   \n",
      "2     솔직히 저는 영어 제일 기초 단계부터 회화 시작\\n하고 싶었는데 , 영어 잘은 못해...       5     False   \n",
      "3     영어회화에 엄청 겁 많으신 분들! 스픽 설치해보세요!!!!!!!! 저는 전화 영어회...       5     False   \n",
      "4     평소에도 중간중간에 인식을 못하는 경우는 그렇다치는데\\n\\n상황별 응용 연습에서 축...       3     False   \n",
      "...                                                 ...     ...       ...   \n",
      "3622  학교졸업과 동시에 영어에서 멀어진 처녀입니다\\n다시 차근차근 배워보려고요 ㅎㅎ좋네요...       5     False   \n",
      "3623  한번도 안써본 웹 돈돌려주세요 쿠폰아이디. Mlj24qqndk. 문서번호 21127...       1      True   \n",
      "3624             말한 문장 또한 0개로 찍히는데 버그인것 같습니다. 확인 부탁드려요.       5     False   \n",
      "3625  ㅠㅠ글도 엄청 남기고 \\n메일도 드렸는데 답변을 못받았어요..\\n\\n저는 첫번째 강...       3      True   \n",
      "3626                       잘 이용하고 있는데, 최근에 버퍼링이 너무 심해요.       4     False   \n",
      "\n",
      "                                           title userName  \n",
      "0                  전체적으로 만족합니다만 궁금증과 개선했으면 하는 점.      토끼미  \n",
      "1                        무료체험 신청을 했는데 자동으로 결제됐어요      우도나  \n",
      "2                                   저는 난이도 만족합니다       즈삐  \n",
      "3                              Thank you so much   아사이보이콭  \n",
      "4                        음성인식 개선 같은것 좀 해주시면 좋겠네요       퍼팻  \n",
      "...                                          ...      ...  \n",
      "3622                                   ㅎㅎ영어초보입니다   으아옹오어ㅛ  \n",
      "3623                                        환불요청     왕공주당  \n",
      "3624  Call Audrey 진행 시 Streak 업데이트가 안 될 때가 있습니다.  jumen02  \n",
      "3625                                  확인 좀 부탁드려요   물꼬기: 3  \n",
      "3626                              좋은데 최근 렉이 심해요.    꽁이콩이꽁  \n",
      "\n",
      "[3627 rows x 7 columns]\n"
     ]
    }
   ],
   "source": [
    "import pandas as pd\n",
    "df = pd.DataFrame(minecraft.reviews)\n",
    "\n",
    "# 결과 출력\n",
    "print(df)"
   ]
  },
  {
   "cell_type": "code",
   "execution_count": 5,
   "metadata": {},
   "outputs": [],
   "source": [
    "df.to_csv(\"../dataset/app_dataset.csv\")"
   ]
  },
  {
   "cell_type": "code",
   "execution_count": 21,
   "metadata": {},
   "outputs": [
    {
     "data": {
      "text/html": [
       "<div>\n",
       "<style scoped>\n",
       "    .dataframe tbody tr th:only-of-type {\n",
       "        vertical-align: middle;\n",
       "    }\n",
       "\n",
       "    .dataframe tbody tr th {\n",
       "        vertical-align: top;\n",
       "    }\n",
       "\n",
       "    .dataframe thead th {\n",
       "        text-align: right;\n",
       "    }\n",
       "</style>\n",
       "<table border=\"1\" class=\"dataframe\">\n",
       "  <thead>\n",
       "    <tr style=\"text-align: right;\">\n",
       "      <th></th>\n",
       "      <th>date</th>\n",
       "      <th>developerResponse</th>\n",
       "      <th>review</th>\n",
       "      <th>rating</th>\n",
       "      <th>isEdited</th>\n",
       "      <th>title</th>\n",
       "      <th>userName</th>\n",
       "    </tr>\n",
       "  </thead>\n",
       "  <tbody>\n",
       "    <tr>\n",
       "      <th>0</th>\n",
       "      <td>2020-02-10 23:29:57</td>\n",
       "      <td>{'id': 13449499, 'body': '안녕하세요, 또끼미 님.\n",
       "\n",
       "정성이 가...</td>\n",
       "      <td>우선 영어 학습 어플 중에서 제일 만족스러워서 월간 결제를 했습니다. 연간 결제도 ...</td>\n",
       "      <td>5</td>\n",
       "      <td>False</td>\n",
       "      <td>전체적으로 만족합니다만 궁금증과 개선했으면 하는 점.</td>\n",
       "      <td>토끼미</td>\n",
       "    </tr>\n",
       "    <tr>\n",
       "      <th>1</th>\n",
       "      <td>2024-01-13 13:19:46</td>\n",
       "      <td>NaN</td>\n",
       "      <td>무료체험 해보고 싶어서 7일 무료체험을 했는데 카드등록을 먼저 하라고 해서 했더니 ...</td>\n",
       "      <td>4</td>\n",
       "      <td>False</td>\n",
       "      <td>무료체험 신청을 했는데 자동으로 결제됐어요</td>\n",
       "      <td>우도나</td>\n",
       "    </tr>\n",
       "    <tr>\n",
       "      <th>2</th>\n",
       "      <td>2021-02-16 15:23:23</td>\n",
       "      <td>{'id': 21294134, 'body': '안녕하세요:)\n",
       "\n",
       "진심을 담아서 이렇게...</td>\n",
       "      <td>솔직히 저는 영어 제일 기초 단계부터 회화 시작\\n하고 싶었는데 , 영어 잘은 못해...</td>\n",
       "      <td>5</td>\n",
       "      <td>False</td>\n",
       "      <td>저는 난이도 만족합니다</td>\n",
       "      <td>즈삐</td>\n",
       "    </tr>\n",
       "  </tbody>\n",
       "</table>\n",
       "</div>"
      ],
      "text/plain": [
       "                 date                                  developerResponse  \\\n",
       "0 2020-02-10 23:29:57  {'id': 13449499, 'body': '안녕하세요, 또끼미 님.\n",
       "\n",
       "정성이 가...   \n",
       "1 2024-01-13 13:19:46                                                NaN   \n",
       "2 2021-02-16 15:23:23  {'id': 21294134, 'body': '안녕하세요:)\n",
       "\n",
       "진심을 담아서 이렇게...   \n",
       "\n",
       "                                              review  rating  isEdited  \\\n",
       "0  우선 영어 학습 어플 중에서 제일 만족스러워서 월간 결제를 했습니다. 연간 결제도 ...       5     False   \n",
       "1  무료체험 해보고 싶어서 7일 무료체험을 했는데 카드등록을 먼저 하라고 해서 했더니 ...       4     False   \n",
       "2  솔직히 저는 영어 제일 기초 단계부터 회화 시작\\n하고 싶었는데 , 영어 잘은 못해...       5     False   \n",
       "\n",
       "                           title userName  \n",
       "0  전체적으로 만족합니다만 궁금증과 개선했으면 하는 점.      토끼미  \n",
       "1        무료체험 신청을 했는데 자동으로 결제됐어요      우도나  \n",
       "2                   저는 난이도 만족합니다       즈삐  "
      ]
     },
     "execution_count": 21,
     "metadata": {},
     "output_type": "execute_result"
    }
   ],
   "source": [
    "df.head(3)"
   ]
  },
  {
   "cell_type": "code",
   "execution_count": 22,
   "metadata": {},
   "outputs": [
    {
     "data": {
      "text/html": [
       "<div>\n",
       "<style scoped>\n",
       "    .dataframe tbody tr th:only-of-type {\n",
       "        vertical-align: middle;\n",
       "    }\n",
       "\n",
       "    .dataframe tbody tr th {\n",
       "        vertical-align: top;\n",
       "    }\n",
       "\n",
       "    .dataframe thead th {\n",
       "        text-align: right;\n",
       "    }\n",
       "</style>\n",
       "<table border=\"1\" class=\"dataframe\">\n",
       "  <thead>\n",
       "    <tr style=\"text-align: right;\">\n",
       "      <th></th>\n",
       "      <th>date</th>\n",
       "      <th>developerResponse</th>\n",
       "      <th>review</th>\n",
       "      <th>rating</th>\n",
       "      <th>isEdited</th>\n",
       "      <th>title</th>\n",
       "      <th>userName</th>\n",
       "      <th>supplier</th>\n",
       "    </tr>\n",
       "  </thead>\n",
       "  <tbody>\n",
       "    <tr>\n",
       "      <th>0</th>\n",
       "      <td>2020-02-10 23:29:57</td>\n",
       "      <td>{'id': 13449499, 'body': '안녕하세요, 또끼미 님.\n",
       "\n",
       "정성이 가...</td>\n",
       "      <td>우선 영어 학습 어플 중에서 제일 만족스러워서 월간 결제를 했습니다. 연간 결제도 ...</td>\n",
       "      <td>5</td>\n",
       "      <td>False</td>\n",
       "      <td>전체적으로 만족합니다만 궁금증과 개선했으면 하는 점.</td>\n",
       "      <td>토끼미</td>\n",
       "      <td>Apple</td>\n",
       "    </tr>\n",
       "    <tr>\n",
       "      <th>1</th>\n",
       "      <td>2024-01-13 13:19:46</td>\n",
       "      <td>NaN</td>\n",
       "      <td>무료체험 해보고 싶어서 7일 무료체험을 했는데 카드등록을 먼저 하라고 해서 했더니 ...</td>\n",
       "      <td>4</td>\n",
       "      <td>False</td>\n",
       "      <td>무료체험 신청을 했는데 자동으로 결제됐어요</td>\n",
       "      <td>우도나</td>\n",
       "      <td>Apple</td>\n",
       "    </tr>\n",
       "    <tr>\n",
       "      <th>2</th>\n",
       "      <td>2021-02-16 15:23:23</td>\n",
       "      <td>{'id': 21294134, 'body': '안녕하세요:)\n",
       "\n",
       "진심을 담아서 이렇게...</td>\n",
       "      <td>솔직히 저는 영어 제일 기초 단계부터 회화 시작\\n하고 싶었는데 , 영어 잘은 못해...</td>\n",
       "      <td>5</td>\n",
       "      <td>False</td>\n",
       "      <td>저는 난이도 만족합니다</td>\n",
       "      <td>즈삐</td>\n",
       "      <td>Apple</td>\n",
       "    </tr>\n",
       "    <tr>\n",
       "      <th>3</th>\n",
       "      <td>2019-08-01 13:31:09</td>\n",
       "      <td>{'id': 9965122, 'body': '안녕하세요, 아사이보이콭 님.\n",
       "\n",
       "좋은 ...</td>\n",
       "      <td>영어회화에 엄청 겁 많으신 분들! 스픽 설치해보세요!!!!!!!! 저는 전화 영어회...</td>\n",
       "      <td>5</td>\n",
       "      <td>False</td>\n",
       "      <td>Thank you so much</td>\n",
       "      <td>아사이보이콭</td>\n",
       "      <td>Apple</td>\n",
       "    </tr>\n",
       "    <tr>\n",
       "      <th>4</th>\n",
       "      <td>2023-08-10 14:54:58</td>\n",
       "      <td>{'id': 38363968, 'body': '안녕하세요, 스픽 서포트팀입니다.\n",
       "\n",
       "...</td>\n",
       "      <td>평소에도 중간중간에 인식을 못하는 경우는 그렇다치는데\\n\\n상황별 응용 연습에서 축...</td>\n",
       "      <td>3</td>\n",
       "      <td>False</td>\n",
       "      <td>음성인식 개선 같은것 좀 해주시면 좋겠네요</td>\n",
       "      <td>퍼팻</td>\n",
       "      <td>Apple</td>\n",
       "    </tr>\n",
       "    <tr>\n",
       "      <th>...</th>\n",
       "      <td>...</td>\n",
       "      <td>...</td>\n",
       "      <td>...</td>\n",
       "      <td>...</td>\n",
       "      <td>...</td>\n",
       "      <td>...</td>\n",
       "      <td>...</td>\n",
       "      <td>...</td>\n",
       "    </tr>\n",
       "    <tr>\n",
       "      <th>2915</th>\n",
       "      <td>2024-01-08 13:46:03</td>\n",
       "      <td>{'id': 41340590, 'body': '안녕하세요, 스픽 서포트팀입니다.\n",
       "\n",
       "...</td>\n",
       "      <td>컨텐츠는 솔직히 유용합니다\\n오드리쌤 강의도 좋고 구성도 좋다생각해요\\n그래서 무료...</td>\n",
       "      <td>1</td>\n",
       "      <td>False</td>\n",
       "      <td>진짜 잘쓰고있었는데 두번이나 이래서 그냥 다 환불받을까고민되네요;</td>\n",
       "      <td>데자이너린</td>\n",
       "      <td>Apple</td>\n",
       "    </tr>\n",
       "    <tr>\n",
       "      <th>2916</th>\n",
       "      <td>2023-05-15 16:14:52</td>\n",
       "      <td>{'id': 36572348, 'body': '안녕하세요, 스픽 서포트팀입니다.\n",
       "\n",
       "...</td>\n",
       "      <td>강의질은 정말 좋운데 강의 듣는데 자꾸 버퍼링이 걸려요</td>\n",
       "      <td>3</td>\n",
       "      <td>False</td>\n",
       "      <td>수업중에 버퍼링</td>\n",
       "      <td>귐욤둥이</td>\n",
       "      <td>Apple</td>\n",
       "    </tr>\n",
       "    <tr>\n",
       "      <th>2917</th>\n",
       "      <td>2019-12-03 02:58:47</td>\n",
       "      <td>NaN</td>\n",
       "      <td>올해 초에 끊어놨다가 꽤 오랫동안 방치했었는데 다시 틈틈히 하고있습니다.\\n\\n일단...</td>\n",
       "      <td>4</td>\n",
       "      <td>False</td>\n",
       "      <td>프로모션으로 할인해서 1년 정액권</td>\n",
       "      <td>넥슨망해라-던파유저</td>\n",
       "      <td>Apple</td>\n",
       "    </tr>\n",
       "    <tr>\n",
       "      <th>2918</th>\n",
       "      <td>2022-02-04 01:27:16</td>\n",
       "      <td>{'id': 27909742, 'body': '안녕하세요, 스픽 팀입니다.\n",
       "\n",
       "피드백...</td>\n",
       "      <td>영어 인터뷰때문에 주문하고 잠깐 사용해보고 만족해서 연간 구독했어요. \\n\\n사용하...</td>\n",
       "      <td>1</td>\n",
       "      <td>False</td>\n",
       "      <td>여기 구매하면 환불 완되니 생각잘하시고 결제하세요.</td>\n",
       "      <td>SWLee@David</td>\n",
       "      <td>Apple</td>\n",
       "    </tr>\n",
       "    <tr>\n",
       "      <th>2919</th>\n",
       "      <td>2022-01-20 00:28:46</td>\n",
       "      <td>{'id': 27749003, 'body': '안녕하세요, 스픽 팀입니다.\r\n",
       "수업 ...</td>\n",
       "      <td>다른건 다되는데 인터넷연결이끊결다고 앱 삭제하고 다시깔아도 인터넷이 끊겼어요 라고만...</td>\n",
       "      <td>1</td>\n",
       "      <td>False</td>\n",
       "      <td>자꾸 인터넷연결</td>\n",
       "      <td>seoeun9944</td>\n",
       "      <td>Apple</td>\n",
       "    </tr>\n",
       "  </tbody>\n",
       "</table>\n",
       "<p>2920 rows × 8 columns</p>\n",
       "</div>"
      ],
      "text/plain": [
       "                    date                                  developerResponse  \\\n",
       "0    2020-02-10 23:29:57  {'id': 13449499, 'body': '안녕하세요, 또끼미 님.\n",
       "\n",
       "정성이 가...   \n",
       "1    2024-01-13 13:19:46                                                NaN   \n",
       "2    2021-02-16 15:23:23  {'id': 21294134, 'body': '안녕하세요:)\n",
       "\n",
       "진심을 담아서 이렇게...   \n",
       "3    2019-08-01 13:31:09  {'id': 9965122, 'body': '안녕하세요, 아사이보이콭 님.\n",
       "\n",
       "좋은 ...   \n",
       "4    2023-08-10 14:54:58  {'id': 38363968, 'body': '안녕하세요, 스픽 서포트팀입니다.\n",
       "\n",
       "...   \n",
       "...                  ...                                                ...   \n",
       "2915 2024-01-08 13:46:03  {'id': 41340590, 'body': '안녕하세요, 스픽 서포트팀입니다.\n",
       "\n",
       "...   \n",
       "2916 2023-05-15 16:14:52  {'id': 36572348, 'body': '안녕하세요, 스픽 서포트팀입니다.\n",
       "\n",
       "...   \n",
       "2917 2019-12-03 02:58:47                                                NaN   \n",
       "2918 2022-02-04 01:27:16  {'id': 27909742, 'body': '안녕하세요, 스픽 팀입니다.\n",
       "\n",
       "피드백...   \n",
       "2919 2022-01-20 00:28:46  {'id': 27749003, 'body': '안녕하세요, 스픽 팀입니다.\n",
       "수업 ...   \n",
       "\n",
       "                                                 review  rating  isEdited  \\\n",
       "0     우선 영어 학습 어플 중에서 제일 만족스러워서 월간 결제를 했습니다. 연간 결제도 ...       5     False   \n",
       "1     무료체험 해보고 싶어서 7일 무료체험을 했는데 카드등록을 먼저 하라고 해서 했더니 ...       4     False   \n",
       "2     솔직히 저는 영어 제일 기초 단계부터 회화 시작\\n하고 싶었는데 , 영어 잘은 못해...       5     False   \n",
       "3     영어회화에 엄청 겁 많으신 분들! 스픽 설치해보세요!!!!!!!! 저는 전화 영어회...       5     False   \n",
       "4     평소에도 중간중간에 인식을 못하는 경우는 그렇다치는데\\n\\n상황별 응용 연습에서 축...       3     False   \n",
       "...                                                 ...     ...       ...   \n",
       "2915  컨텐츠는 솔직히 유용합니다\\n오드리쌤 강의도 좋고 구성도 좋다생각해요\\n그래서 무료...       1     False   \n",
       "2916                     강의질은 정말 좋운데 강의 듣는데 자꾸 버퍼링이 걸려요       3     False   \n",
       "2917  올해 초에 끊어놨다가 꽤 오랫동안 방치했었는데 다시 틈틈히 하고있습니다.\\n\\n일단...       4     False   \n",
       "2918  영어 인터뷰때문에 주문하고 잠깐 사용해보고 만족해서 연간 구독했어요. \\n\\n사용하...       1     False   \n",
       "2919  다른건 다되는데 인터넷연결이끊결다고 앱 삭제하고 다시깔아도 인터넷이 끊겼어요 라고만...       1     False   \n",
       "\n",
       "                                     title     userName supplier  \n",
       "0            전체적으로 만족합니다만 궁금증과 개선했으면 하는 점.          토끼미    Apple  \n",
       "1                  무료체험 신청을 했는데 자동으로 결제됐어요          우도나    Apple  \n",
       "2                             저는 난이도 만족합니다           즈삐    Apple  \n",
       "3                        Thank you so much       아사이보이콭    Apple  \n",
       "4                  음성인식 개선 같은것 좀 해주시면 좋겠네요           퍼팻    Apple  \n",
       "...                                    ...          ...      ...  \n",
       "2915  진짜 잘쓰고있었는데 두번이나 이래서 그냥 다 환불받을까고민되네요;        데자이너린    Apple  \n",
       "2916                              수업중에 버퍼링         귐욤둥이    Apple  \n",
       "2917                    프로모션으로 할인해서 1년 정액권   넥슨망해라-던파유저    Apple  \n",
       "2918          여기 구매하면 환불 완되니 생각잘하시고 결제하세요.  SWLee@David    Apple  \n",
       "2919                              자꾸 인터넷연결   seoeun9944    Apple  \n",
       "\n",
       "[2920 rows x 8 columns]"
      ]
     },
     "execution_count": 22,
     "metadata": {},
     "output_type": "execute_result"
    }
   ],
   "source": [
    "df['supplier'] = 'Apple'\n",
    "df"
   ]
  },
  {
   "cell_type": "code",
   "execution_count": 7,
   "metadata": {},
   "outputs": [],
   "source": [
    "df = df.rename(columns={'date': 'at'})"
   ]
  },
  {
   "cell_type": "code",
   "execution_count": 8,
   "metadata": {},
   "outputs": [
    {
     "data": {
      "text/plain": [
       "Index(['at', 'developerResponse', 'review', 'rating', 'isEdited', 'title',\n",
       "       'userName'],\n",
       "      dtype='object')"
      ]
     },
     "execution_count": 8,
     "metadata": {},
     "output_type": "execute_result"
    }
   ],
   "source": [
    "df.columns"
   ]
  },
  {
   "cell_type": "code",
   "execution_count": 9,
   "metadata": {},
   "outputs": [],
   "source": [
    "df['at'] = pd.to_datetime(df['at'])"
   ]
  },
  {
   "cell_type": "code",
   "execution_count": 10,
   "metadata": {},
   "outputs": [],
   "source": [
    "df['date'] = df['at'].dt.date"
   ]
  },
  {
   "cell_type": "code",
   "execution_count": 14,
   "metadata": {},
   "outputs": [
    {
     "data": {
      "text/plain": [
       "dtype('O')"
      ]
     },
     "execution_count": 14,
     "metadata": {},
     "output_type": "execute_result"
    }
   ],
   "source": [
    "df['date'].dtype"
   ]
  },
  {
   "cell_type": "code",
   "execution_count": 11,
   "metadata": {},
   "outputs": [],
   "source": [
    "df['time'] = df['at'].dt.time"
   ]
  },
  {
   "cell_type": "code",
   "execution_count": 15,
   "metadata": {},
   "outputs": [],
   "source": [
    "df['date'] = pd.to_datetime(df['date'])"
   ]
  },
  {
   "cell_type": "code",
   "execution_count": 16,
   "metadata": {},
   "outputs": [],
   "source": [
    "filtered_df = df[df['date'] >= pd.to_datetime('2023-01-01')]"
   ]
  },
  {
   "cell_type": "code",
   "execution_count": 17,
   "metadata": {},
   "outputs": [
    {
     "data": {
      "text/plain": [
       "996"
      ]
     },
     "execution_count": 17,
     "metadata": {},
     "output_type": "execute_result"
    }
   ],
   "source": [
    "len(filtered_df)"
   ]
  },
  {
   "cell_type": "code",
   "execution_count": 18,
   "metadata": {},
   "outputs": [],
   "source": [
    "df.to_csv('../dataset/app_dataset.csv')"
   ]
  }
 ],
 "metadata": {
  "kernelspec": {
   "display_name": "Python 3",
   "language": "python",
   "name": "python3"
  },
  "language_info": {
   "codemirror_mode": {
    "name": "ipython",
    "version": 3
   },
   "file_extension": ".py",
   "mimetype": "text/x-python",
   "name": "python",
   "nbconvert_exporter": "python",
   "pygments_lexer": "ipython3",
   "version": "3.11.5"
  }
 },
 "nbformat": 4,
 "nbformat_minor": 2
}
