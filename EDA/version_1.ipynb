{
 "cells": [
  {
   "cell_type": "code",
   "execution_count": 1,
   "metadata": {},
   "outputs": [],
   "source": [
    "import pandas as pd"
   ]
  },
  {
   "cell_type": "code",
   "execution_count": 2,
   "metadata": {},
   "outputs": [],
   "source": [
    "df = pd.read_csv(\"../dataset/dataset_12935.csv\")"
   ]
  },
  {
   "cell_type": "code",
   "execution_count": 3,
   "metadata": {},
   "outputs": [
    {
     "name": "stdout",
     "output_type": "stream",
     "text": [
      "<class 'pandas.core.frame.DataFrame'>\n",
      "RangeIndex: 12935 entries, 0 to 12934\n",
      "Data columns (total 12 columns):\n",
      " #   Column                Non-Null Count  Dtype \n",
      "---  ------                --------------  ----- \n",
      " 0   Unnamed: 0            12935 non-null  int64 \n",
      " 1   reviewId              12935 non-null  object\n",
      " 2   userName              12935 non-null  object\n",
      " 3   userImage             12935 non-null  object\n",
      " 4   content               12935 non-null  object\n",
      " 5   score                 12935 non-null  int64 \n",
      " 6   thumbsUpCount         12935 non-null  int64 \n",
      " 7   reviewCreatedVersion  11278 non-null  object\n",
      " 8   at                    12935 non-null  object\n",
      " 9   replyContent          11398 non-null  object\n",
      " 10  repliedAt             11398 non-null  object\n",
      " 11  appVersion            11278 non-null  object\n",
      "dtypes: int64(3), object(9)\n",
      "memory usage: 1.2+ MB\n"
     ]
    }
   ],
   "source": [
    "df.info()"
   ]
  },
  {
   "cell_type": "code",
   "execution_count": 5,
   "metadata": {},
   "outputs": [
    {
     "data": {
      "text/html": [
       "<div>\n",
       "<style scoped>\n",
       "    .dataframe tbody tr th:only-of-type {\n",
       "        vertical-align: middle;\n",
       "    }\n",
       "\n",
       "    .dataframe tbody tr th {\n",
       "        vertical-align: top;\n",
       "    }\n",
       "\n",
       "    .dataframe thead th {\n",
       "        text-align: right;\n",
       "    }\n",
       "</style>\n",
       "<table border=\"1\" class=\"dataframe\">\n",
       "  <thead>\n",
       "    <tr style=\"text-align: right;\">\n",
       "      <th></th>\n",
       "      <th>Unnamed: 0</th>\n",
       "      <th>score</th>\n",
       "      <th>thumbsUpCount</th>\n",
       "    </tr>\n",
       "  </thead>\n",
       "  <tbody>\n",
       "    <tr>\n",
       "      <th>count</th>\n",
       "      <td>12935.000000</td>\n",
       "      <td>12935.000000</td>\n",
       "      <td>12935.000000</td>\n",
       "    </tr>\n",
       "    <tr>\n",
       "      <th>mean</th>\n",
       "      <td>6467.000000</td>\n",
       "      <td>4.388867</td>\n",
       "      <td>0.949053</td>\n",
       "    </tr>\n",
       "    <tr>\n",
       "      <th>std</th>\n",
       "      <td>3734.157201</td>\n",
       "      <td>1.207164</td>\n",
       "      <td>5.693362</td>\n",
       "    </tr>\n",
       "    <tr>\n",
       "      <th>min</th>\n",
       "      <td>0.000000</td>\n",
       "      <td>1.000000</td>\n",
       "      <td>0.000000</td>\n",
       "    </tr>\n",
       "    <tr>\n",
       "      <th>25%</th>\n",
       "      <td>3233.500000</td>\n",
       "      <td>4.000000</td>\n",
       "      <td>0.000000</td>\n",
       "    </tr>\n",
       "    <tr>\n",
       "      <th>50%</th>\n",
       "      <td>6467.000000</td>\n",
       "      <td>5.000000</td>\n",
       "      <td>0.000000</td>\n",
       "    </tr>\n",
       "    <tr>\n",
       "      <th>75%</th>\n",
       "      <td>9700.500000</td>\n",
       "      <td>5.000000</td>\n",
       "      <td>0.000000</td>\n",
       "    </tr>\n",
       "    <tr>\n",
       "      <th>max</th>\n",
       "      <td>12934.000000</td>\n",
       "      <td>5.000000</td>\n",
       "      <td>177.000000</td>\n",
       "    </tr>\n",
       "  </tbody>\n",
       "</table>\n",
       "</div>"
      ],
      "text/plain": [
       "         Unnamed: 0         score  thumbsUpCount\n",
       "count  12935.000000  12935.000000   12935.000000\n",
       "mean    6467.000000      4.388867       0.949053\n",
       "std     3734.157201      1.207164       5.693362\n",
       "min        0.000000      1.000000       0.000000\n",
       "25%     3233.500000      4.000000       0.000000\n",
       "50%     6467.000000      5.000000       0.000000\n",
       "75%     9700.500000      5.000000       0.000000\n",
       "max    12934.000000      5.000000     177.000000"
      ]
     },
     "execution_count": 5,
     "metadata": {},
     "output_type": "execute_result"
    }
   ],
   "source": [
    "df.describe()"
   ]
  },
  {
   "cell_type": "code",
   "execution_count": 6,
   "metadata": {},
   "outputs": [
    {
     "data": {
      "text/plain": [
       "Unnamed: 0  reviewId                              userName    userImage                                                                                                                 content                                                                                                                                             score  thumbsUpCount  reviewCreatedVersion  at                   replyContent                                                                                                                                                                                                           repliedAt            appVersion\n",
       "28          d28737d2-4b24-4104-89cb-639f11642fb4  이선미         https://play-lh.googleusercontent.com/a/ACg8ocJsufvE0E0Ac902jNNlu77J-iGL90QdkCjTDpzReusL=mo                               정기결제가 되어 환불을 요청합니다. 구글플레이에서 시도해봤지만 취소 선택버튼이 생성되지 않아 그 다음 단계로 넘어갈 수 없어서 여기에 남깁니다                                                                     1      0              3.13.6                2024-02-01 01:24:42  안녕하세요, 스픽 서포트팀입니다.\\n\\n먼저 이용에 불편을 드려 정말 죄송합니다.\\n\\n안타깝게도 보내주신 리뷰로는 사용자님의 정보를 알 수 없어 저희가 도와드리기 어렵습니다.\\n스픽앱 > 프로필 > 설정 > 스픽 고객센터로 (혹은 support@usespeak.com) 연락 주시면\\n스픽 계정 확인 후 신속하게 도움드리겠습니다.\\n\\n그럼 연락 기다리겠습니다.\\n\\n감사합니다.  2024-02-01 14:35:05  3.13.6        1\n",
       "8090        bc211a4a-08a7-44da-bebd-6cc4c043f5c7  1qdvjo0     https://play-lh.googleusercontent.com/a/ACg8ocKei1RkP1eo7wN3zh-jUdzUcIrpyC1ipGOxwHjA4jWP=mo                               환불할라면 메일을 첨부하라고 써있는데 휴면 메일로 등록해놔서 메일이 안왔어요. 빨리 환불해주세요. 갑자기 달러가 결제돼서 이게 뭔가 그랬네. 해외 불법결제로 신고할뻔~ 아니 뭔 스픽이 정기결제됐다고 안내 문자라도 보내야 할것 아니오. 고객센터는 전화도 없고 답답  1      18             3.1.3                 2022-01-17 12:31:45  안녕하세요, 스픽 입니다.\\n\\n먼저 이용에 불편을 드려 정말 죄송합니다.\\n\\n리뷰만으로는 사용자님의 정보를 알 수 없어 저희가 도와드리기 어렵습니다.\\nsupport@usespeak.com 으로 연락 주시면 스픽 계정 확인 후 빠르게 도움드리도록 하겠습니다.\\n\\n그럼 연락 기다리겠습니다.                                                   2022-01-18 13:17:38  3.1.3         1\n",
       "8083        82c98f04-62a9-46da-993d-1c7544c3ea05  양현지         https://play-lh.googleusercontent.com/a/ACg8ocLNHaQObpYlJwBZo7n8IrLtLThbVnI4VS5W0Gg9ezH5=mo                               제 영어실력에도 도움되고 너무 재밌습니다!                                                                                                                             5      0              3.1.3                 2022-01-17 18:32:19  안녕하세요, 스픽팀입니다.\\n\\n좋은 후기 남겨주셔서 감사합니다. 더 좋은 컨텐츠와 서비스로 보답하는 스픽 되겠습니다.\\n\\n사용하시면서 불편한 점이나 궁금한 점이 있으시면 언제든지 연락 부탁드립니다.\\n오늘도 스픽과 즐거운 영어 스피킹 연습 함께 해요 :>                                                                       2022-01-18 13:02:27  3.1.3         1\n",
       "8084        8bcf18d2-66cc-4a39-98b4-7cee1141a872  내일달리오       https://play-lh.googleusercontent.com/a-/ALV-UjUobCHy-Emq8LI12BplJjeB7YhgIoPXUqSinRsrjN5jTg                               좋아요                                                                                                                                                 5      0              3.1.2                 2022-01-17 18:16:02  안녕하세요, 스픽팀입니다.\\n\\n좋은 후기 남겨주셔서 감사합니다. 더 좋은 컨텐츠와 서비스로 보답하는 스픽 되겠습니다.\\n\\n사용하시면서 불편한 점이나 궁금한 점이 있으시면 언제든지 연락 부탁드립니다.\\n오늘도 스픽과 즐거운 영어 스피킹 연습 함께 해요 :>                                                                       2022-01-18 13:04:43  3.1.2         1\n",
       "8085        92952f8e-f5e7-45a9-8c59-09aff00defcf  김지윤         https://play-lh.googleusercontent.com/a/ACg8ocJfXo2hy7xeK_Imx56gNcYVGf-d0BKiR4wRIp6DbWmO=mo                               재미있어요                                                                                                                                               5      0              3.1.3                 2022-01-17 18:05:35  안녕하세요, 스픽팀입니다.\\n\\n좋은 후기 남겨주셔서 감사합니다. 더 좋은 컨텐츠와 서비스로 보답하는 스픽 되겠습니다.\\n\\n사용하시면서 불편한 점이나 궁금한 점이 있으시면 언제든지 연락 부탁드립니다.\\n오늘도 스픽과 즐거운 영어 스피킹 연습 함께 해요 :>                                                                       2022-01-18 13:04:54  3.1.3         1\n",
       "                                                                                                                                                                                                                                                                                                                                                                                                                                                                                                                                                                                                                                                                      ..\n",
       "4255        896826f5-f946-427e-8e4f-132d7dea0c5b  juho hwang  https://play-lh.googleusercontent.com/a/ACg8ocIp_Srthw9ZXmrqBl-E3kMI3fQX7pnbYRMZLCdPsG1b=mo                               외국 무역을 하는 회사에 다니는데, 영어회화를 배워야는 하겠고 사람이랑 하는건 무서워서 찾던중 시작했습니다. 육아중 틈틈히 언제든 할수있어 편하고, 실용적인 표현들을 배우고 복습하기도 좋습니다.                                        5      0              3.4.4                 2023-02-08 13:30:13  안녕하세요, 스픽 서포트팀입니다.\\n\\n좋은 후기 남겨주셔서 감사합니다. 항상 더 좋은 컨텐츠와 서비스로 보답하는 스픽이 되겠습니다.\\n사용하시면서 불편한 점이나 궁금한 점이 있으시면 언제든지 편하게 연락 부탁드립니다.\\n\\n오늘도 스픽과 즐거운 영어 스피킹 연습 함께 해요!\\n\\n감사합니다.                                                   2023-02-08 13:34:53  3.4.4         1\n",
       "4256        d9f156fa-3fe0-4514-aab6-259ddfdea726  리아퀸(리아퀸)    https://play-lh.googleusercontent.com/a/ACg8ocK7xzICJeF_YAosa_1oXm2FKLhfiuwd9yYzcrYCdYR8=mo                               상황에 따라 반복해서 말하기 연습할수있고 본인 발음도 들어볼수있어서 정말 좋아요 ~ ㅎ 강추합니다                                                                                              5      0              3.4.4                 2023-02-08 09:06:55  안녕하세요, 스픽 서포트팀입니다.\\n\\n소중한 후기를 남겨주셔서 정말 감사합니다.\\n\\n해당 내용은 관련 팀과 공유하여 더 멋진 모습의 스픽을 보여드릴 수 있도록 노력하겠습니다.\\n\\n다른 의견 또는 문의사항이 있으신 경우 언제든지 편하게 연락해 주십시오.\\n\\n저희 스픽을 이용해 주셔서 대단히 감사드리며 기쁨 가득한 하루 되길 응원하겠습니다.\\n\\n감사합니다.            2023-02-08 09:11:54  3.4.4         1\n",
       "4257        47d12900-3ad4-467c-8e96-af45ad189a56  라마          https://play-lh.googleusercontent.com/a/ACg8ocIj7pzJ5Zdtf_pSWBUq_SKtEsaxEXGAaIYXYHxKox_F=mo                               대화하기가 좋아요                                                                                                                                           5      0              3.4.4                 2023-02-08 09:05:52  안녕하세요, 스픽 서포트팀입니다.\\n\\n스픽을 이용하시면서 좋으셨던 점을 이렇게 공유해주셔서 정말 감사합니다.\\n\\n이용하시면서 더 궁금한 점이나 피드백이 있으시면 언제든지 편하게 연락 부탁드립니다.\\n\\n오늘도 스픽과 함께 열정 가득 스피킹 불꽃을 이어가시길 응원하겠습니다!\\n\\n감사합니다.                                                   2023-02-08 09:11:43  3.4.4         1\n",
       "4258        a83d4a48-2115-4b50-bf3d-b25b6a3ed14b  alice Shin  https://play-lh.googleusercontent.com/a-/ALV-UjWuRxclgDbd7ogqJXuDDcbUFDFf_7Rzfs_p-pCxZ6QpHFk                              재미있게 따라할 수는 있지만 인터넷 속도가 느려서인지 목소리 인식을 잘 못하네요 ㅠㅠ                                                                                                     3      1              3.4.4                 2023-02-08 04:16:04  안녕하세요, 스픽 서포트팀입니다.\\n\\n스픽 이용 시 불편을 드려 죄송합니다. 관련팀에 해당 리뷰를 공유하여 음성인식 개선 등 스픽 이용에 보다 나아진 모습을 보여드릴 수 있도록 노력하겠습니다.\\n\\n다시 한 번 불편을 드린 점 대단히 죄송합니다.\\n\\n추가적인 문의사항 및 피드백이 있으시다면 언제든 다시 찾아주십시오.\\n\\n감사합니다.                          2023-02-08 09:06:52  3.4.4         1\n",
       "12917       77fbd63d-ca9c-4a6b-b00a-d2e70e54daeb  Google 사용자  https://play-lh.googleusercontent.com/EGemoI2NTXmTsBVtJqk8jxF9rh8ApRWfsIMQSt2uE4OcpQqbFu7f7NbTK05lx80nuSijCz7sc3a277R67g  영어를 해보았는데 반복학습으로 발음도 교정할 수 있어서 좋았던 것 같아요~ 재미도 있고 내 발음에 집중을 하다보니 더 빨리 습득할 수 있더라구요~ 영어는 만족하는데 일본어나 중국어는 따로 나오지 않나요??ㅠㅠ                                5      1              1.0.9                 2019-04-26 11:40:04  안녕하세요, 임슬기 님.\\n\\n스피킹을 중점으로 하는 경험을 제공해 드리려 하고 있습니다. 영어를 제대로 전파할 수 있게 되면 일어, 중국어던 많은 언어를 가르쳐 드리겠습니다. (저희 음성인식 알고리듬은 모든 언어를 소화해낼 수가 있습니다!)\\n\\nTeam Speak                                                                  2019-04-29 07:15:38  1.0.9         1\n",
       "Name: count, Length: 10033, dtype: int64"
      ]
     },
     "execution_count": 6,
     "metadata": {},
     "output_type": "execute_result"
    }
   ],
   "source": [
    "df.value_counts()"
   ]
  },
  {
   "cell_type": "code",
   "execution_count": 7,
   "metadata": {},
   "outputs": [
    {
     "data": {
      "text/plain": [
       "dtype('O')"
      ]
     },
     "execution_count": 7,
     "metadata": {},
     "output_type": "execute_result"
    }
   ],
   "source": [
    "df['at'].dtype"
   ]
  },
  {
   "cell_type": "code",
   "execution_count": 8,
   "metadata": {},
   "outputs": [
    {
     "name": "stdout",
     "output_type": "stream",
     "text": [
      "       Unnamed: 0                              reviewId        userName  \\\n",
      "0               0  68fa3f50-787a-44f7-8538-a55e097a623a  Soon-hong Kwon   \n",
      "1               1  0e7679e9-a79d-41e3-a8d3-10455380b2d1   DongHyun Jang   \n",
      "2               2  7ccf7571-706d-4efa-9dae-d1ebe5462465             정선홍   \n",
      "3               3  77f4a794-c579-4d67-b0fb-76162efdeb4b       여니혀니의 데일리   \n",
      "4               4  5b5b93a5-92fe-42b3-8b4b-d2c3489e95e0        서Sms0723   \n",
      "...           ...                                   ...             ...   \n",
      "12930       12930  9ee5393c-9d5b-44b1-8d8c-9ddbbd8ecfa5      Google 사용자   \n",
      "12931       12931  b1332489-27d6-4f2d-9f1c-150da106f656      Google 사용자   \n",
      "12932       12932  6f7d1d29-09cb-4afa-809c-b2d8aac5f950      Google 사용자   \n",
      "12933       12933  68e05e39-4155-4196-a29c-8d6e2754adbf      Google 사용자   \n",
      "12934       12934  0a6fd299-4f16-473d-9fd3-af774af81777      Google 사용자   \n",
      "\n",
      "                                               userImage  \\\n",
      "0      https://play-lh.googleusercontent.com/a/ACg8oc...   \n",
      "1      https://play-lh.googleusercontent.com/a/ACg8oc...   \n",
      "2      https://play-lh.googleusercontent.com/a/ACg8oc...   \n",
      "3      https://play-lh.googleusercontent.com/a-/ALV-U...   \n",
      "4      https://play-lh.googleusercontent.com/a/ACg8oc...   \n",
      "...                                                  ...   \n",
      "12930  https://play-lh.googleusercontent.com/EGemoI2N...   \n",
      "12931  https://play-lh.googleusercontent.com/EGemoI2N...   \n",
      "12932  https://play-lh.googleusercontent.com/EGemoI2N...   \n",
      "12933  https://play-lh.googleusercontent.com/EGemoI2N...   \n",
      "12934  https://play-lh.googleusercontent.com/EGemoI2N...   \n",
      "\n",
      "                                                 content  score  \\\n",
      "0                                               쉽고 재미있음.      5   \n",
      "1                                                    좋아요      5   \n",
      "2                                     존잼;;;;빨리 다음수업하고싶어요      5   \n",
      "3                                                   good      5   \n",
      "4             내 발음을 바로바로 들을수 있고. 모범답안과 비교할수 있어서 도움이 됩니다.      5   \n",
      "...                                                  ...    ...   \n",
      "12930  망설이다가 그냥 질렀어요!! 저는 카페에서 일하는데 매번 외국인 손님이 올 때마다 ...      5   \n",
      "12931  저는 영국에서 공부중인데 밤에 자기전에 Day 하나씩 듣고 있어요ㅎㅎ 막상 분량이 ...      5   \n",
      "12932  캐나다에서 공부중인 유학생입니다 고민이 많았는데.. 2년 전에 유학와서 영어때문에 ...      5   \n",
      "12933                                 친구한테 추천받아서 다운받았어요!      4   \n",
      "12934                   웬만해서 리 뷰 안 남기는 사람인데요 이 앱은 괜찮네요!!      5   \n",
      "\n",
      "       thumbsUpCount reviewCreatedVersion                  at  \\\n",
      "0                  0               3.13.6 2024-02-02 00:21:11   \n",
      "1                  0               3.13.6 2024-02-01 23:49:05   \n",
      "2                  0               3.13.6 2024-02-01 23:18:18   \n",
      "3                  0               3.13.6 2024-02-01 22:51:16   \n",
      "4                  0               3.13.6 2024-02-01 22:27:32   \n",
      "...              ...                  ...                 ...   \n",
      "12930              0                  NaN 2019-04-24 12:32:58   \n",
      "12931              0                  NaN 2019-04-24 12:32:46   \n",
      "12932              0                  NaN 2019-04-24 12:32:35   \n",
      "12933              0                  NaN 2019-04-24 12:32:22   \n",
      "12934              0                  NaN 2019-04-23 11:51:33   \n",
      "\n",
      "                                            replyContent            repliedAt  \\\n",
      "0                                                    NaN                  NaN   \n",
      "1                                                    NaN                  NaN   \n",
      "2                                                    NaN                  NaN   \n",
      "3                                                    NaN                  NaN   \n",
      "4                                                    NaN                  NaN   \n",
      "...                                                  ...                  ...   \n",
      "12930  안녕하세요, 이나정 님.\\n\\n외국인 손님들과 회화를 하실 수 있게 도와드리겠습니다...  2019-04-29 06:36:11   \n",
      "12931  안녕하세요, 신미진 님.\\n\\n앱을 꾸준히 잘 사용하고 계신다니 다행입니다. 시간이...  2019-04-29 06:35:20   \n",
      "12932  안녕하세요, 권유정 님.\\n\\n좋은 리뷰를 남겨주셔서 감사합니다. 말씀하신 것처럼 ...  2019-04-29 06:34:21   \n",
      "12933  안녕하세요, 류송희 님.\\n\\n좋은 친구분이신 것 같습니다. :)\\n\\nTeam S...  2019-04-29 06:33:11   \n",
      "12934  안녕하세요 노투르담드파리 님.\\n\\n좋은 의견을 남겨주셔서 감사합니다. 더욱더 발전...  2019-04-29 06:32:31   \n",
      "\n",
      "      appVersion        date      time  \n",
      "0         3.13.6  2024-02-02  00:21:11  \n",
      "1         3.13.6  2024-02-01  23:49:05  \n",
      "2         3.13.6  2024-02-01  23:18:18  \n",
      "3         3.13.6  2024-02-01  22:51:16  \n",
      "4         3.13.6  2024-02-01  22:27:32  \n",
      "...          ...         ...       ...  \n",
      "12930        NaN  2019-04-24  12:32:58  \n",
      "12931        NaN  2019-04-24  12:32:46  \n",
      "12932        NaN  2019-04-24  12:32:35  \n",
      "12933        NaN  2019-04-24  12:32:22  \n",
      "12934        NaN  2019-04-23  11:51:33  \n",
      "\n",
      "[12935 rows x 14 columns]\n"
     ]
    }
   ],
   "source": [
    "# 'at' 열의 데이터를 datetime 형식으로 변환\n",
    "df['at'] = pd.to_datetime(df['at'])\n",
    "\n",
    "# 'date' 열에 날짜를, 'time' 열에 시간을 추출하여 추가\n",
    "df['date'] = df['at'].dt.date\n",
    "df['time'] = df['at'].dt.time\n",
    "\n",
    "# 결과 출력\n",
    "print(df)"
   ]
  },
  {
   "cell_type": "code",
   "execution_count": 9,
   "metadata": {},
   "outputs": [
    {
     "data": {
      "text/plain": [
       "Index(['Unnamed: 0', 'reviewId', 'userName', 'userImage', 'content', 'score',\n",
       "       'thumbsUpCount', 'reviewCreatedVersion', 'at', 'replyContent',\n",
       "       'repliedAt', 'appVersion', 'date', 'time'],\n",
       "      dtype='object')"
      ]
     },
     "execution_count": 9,
     "metadata": {},
     "output_type": "execute_result"
    }
   ],
   "source": [
    "df.columns"
   ]
  },
  {
   "cell_type": "code",
   "execution_count": 10,
   "metadata": {},
   "outputs": [],
   "source": [
    "df.to_csv('../dataset/dataset_12935_2.csv')"
   ]
  },
  {
   "cell_type": "code",
   "execution_count": 11,
   "metadata": {},
   "outputs": [
    {
     "data": {
      "text/html": [
       "<div>\n",
       "<style scoped>\n",
       "    .dataframe tbody tr th:only-of-type {\n",
       "        vertical-align: middle;\n",
       "    }\n",
       "\n",
       "    .dataframe tbody tr th {\n",
       "        vertical-align: top;\n",
       "    }\n",
       "\n",
       "    .dataframe thead th {\n",
       "        text-align: right;\n",
       "    }\n",
       "</style>\n",
       "<table border=\"1\" class=\"dataframe\">\n",
       "  <thead>\n",
       "    <tr style=\"text-align: right;\">\n",
       "      <th></th>\n",
       "      <th>Unnamed: 0.1</th>\n",
       "      <th>Unnamed: 0</th>\n",
       "      <th>reviewId</th>\n",
       "      <th>userName</th>\n",
       "      <th>userImage</th>\n",
       "      <th>content</th>\n",
       "      <th>score</th>\n",
       "      <th>thumbsUpCount</th>\n",
       "      <th>reviewCreatedVersion</th>\n",
       "      <th>at</th>\n",
       "      <th>replyContent</th>\n",
       "      <th>repliedAt</th>\n",
       "      <th>appVersion</th>\n",
       "      <th>date</th>\n",
       "      <th>time</th>\n",
       "    </tr>\n",
       "  </thead>\n",
       "  <tbody>\n",
       "    <tr>\n",
       "      <th>0</th>\n",
       "      <td>0</td>\n",
       "      <td>0</td>\n",
       "      <td>68fa3f50-787a-44f7-8538-a55e097a623a</td>\n",
       "      <td>Soon-hong Kwon</td>\n",
       "      <td>https://play-lh.googleusercontent.com/a/ACg8oc...</td>\n",
       "      <td>쉽고 재미있음.</td>\n",
       "      <td>5</td>\n",
       "      <td>0</td>\n",
       "      <td>3.13.6</td>\n",
       "      <td>2024-02-02 00:21:11</td>\n",
       "      <td>NaN</td>\n",
       "      <td>NaN</td>\n",
       "      <td>3.13.6</td>\n",
       "      <td>2024-02-02</td>\n",
       "      <td>00:21:11</td>\n",
       "    </tr>\n",
       "    <tr>\n",
       "      <th>1</th>\n",
       "      <td>1</td>\n",
       "      <td>1</td>\n",
       "      <td>0e7679e9-a79d-41e3-a8d3-10455380b2d1</td>\n",
       "      <td>DongHyun Jang</td>\n",
       "      <td>https://play-lh.googleusercontent.com/a/ACg8oc...</td>\n",
       "      <td>좋아요</td>\n",
       "      <td>5</td>\n",
       "      <td>0</td>\n",
       "      <td>3.13.6</td>\n",
       "      <td>2024-02-01 23:49:05</td>\n",
       "      <td>NaN</td>\n",
       "      <td>NaN</td>\n",
       "      <td>3.13.6</td>\n",
       "      <td>2024-02-01</td>\n",
       "      <td>23:49:05</td>\n",
       "    </tr>\n",
       "    <tr>\n",
       "      <th>2</th>\n",
       "      <td>2</td>\n",
       "      <td>2</td>\n",
       "      <td>7ccf7571-706d-4efa-9dae-d1ebe5462465</td>\n",
       "      <td>정선홍</td>\n",
       "      <td>https://play-lh.googleusercontent.com/a/ACg8oc...</td>\n",
       "      <td>존잼;;;;빨리 다음수업하고싶어요</td>\n",
       "      <td>5</td>\n",
       "      <td>0</td>\n",
       "      <td>3.13.6</td>\n",
       "      <td>2024-02-01 23:18:18</td>\n",
       "      <td>NaN</td>\n",
       "      <td>NaN</td>\n",
       "      <td>3.13.6</td>\n",
       "      <td>2024-02-01</td>\n",
       "      <td>23:18:18</td>\n",
       "    </tr>\n",
       "  </tbody>\n",
       "</table>\n",
       "</div>"
      ],
      "text/plain": [
       "   Unnamed: 0.1  Unnamed: 0                              reviewId  \\\n",
       "0             0           0  68fa3f50-787a-44f7-8538-a55e097a623a   \n",
       "1             1           1  0e7679e9-a79d-41e3-a8d3-10455380b2d1   \n",
       "2             2           2  7ccf7571-706d-4efa-9dae-d1ebe5462465   \n",
       "\n",
       "         userName                                          userImage  \\\n",
       "0  Soon-hong Kwon  https://play-lh.googleusercontent.com/a/ACg8oc...   \n",
       "1   DongHyun Jang  https://play-lh.googleusercontent.com/a/ACg8oc...   \n",
       "2             정선홍  https://play-lh.googleusercontent.com/a/ACg8oc...   \n",
       "\n",
       "              content  score  thumbsUpCount reviewCreatedVersion  \\\n",
       "0            쉽고 재미있음.      5              0               3.13.6   \n",
       "1                 좋아요      5              0               3.13.6   \n",
       "2  존잼;;;;빨리 다음수업하고싶어요      5              0               3.13.6   \n",
       "\n",
       "                    at replyContent repliedAt appVersion        date      time  \n",
       "0  2024-02-02 00:21:11          NaN       NaN     3.13.6  2024-02-02  00:21:11  \n",
       "1  2024-02-01 23:49:05          NaN       NaN     3.13.6  2024-02-01  23:49:05  \n",
       "2  2024-02-01 23:18:18          NaN       NaN     3.13.6  2024-02-01  23:18:18  "
      ]
     },
     "execution_count": 11,
     "metadata": {},
     "output_type": "execute_result"
    }
   ],
   "source": [
    "df = pd.read_csv('../dataset/dataset_12935_2.csv')\n",
    "df.head(3)"
   ]
  }
 ],
 "metadata": {
  "kernelspec": {
   "display_name": "Python 3",
   "language": "python",
   "name": "python3"
  },
  "language_info": {
   "codemirror_mode": {
    "name": "ipython",
    "version": 3
   },
   "file_extension": ".py",
   "mimetype": "text/x-python",
   "name": "python",
   "nbconvert_exporter": "python",
   "pygments_lexer": "ipython3",
   "version": "3.11.5"
  }
 },
 "nbformat": 4,
 "nbformat_minor": 2
}
